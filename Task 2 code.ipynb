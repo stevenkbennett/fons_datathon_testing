{
 "cells": [
  {
   "cell_type": "code",
   "execution_count": 1,
   "metadata": {},
   "outputs": [],
   "source": [
    "import pandas as pd\n",
    "import numpy as np\n",
    "import matplotlib.pyplot as plt\n",
    "import seaborn as sns"
   ]
  },
  {
   "cell_type": "code",
   "execution_count": 2,
   "metadata": {},
   "outputs": [],
   "source": [
    "from sklearn.model_selection import train_test_split\n",
    "from sklearn.compose import ColumnTransformer\n",
    "from sklearn.pipeline import Pipeline\n",
    "from sklearn.impute import SimpleImputer\n",
    "from sklearn.preprocessing import OneHotEncoder"
   ]
  },
  {
   "cell_type": "code",
   "execution_count": 3,
   "metadata": {},
   "outputs": [],
   "source": [
    "from xgboost import XGBRegressor\n",
    "from xgboost import XGBClassifier"
   ]
  },
  {
   "cell_type": "code",
   "execution_count": 3,
   "metadata": {},
   "outputs": [],
   "source": [
    "from sklearn.metrics import mean_absolute_error\n",
    "from sklearn.metrics import f1_score"
   ]
  },
  {
   "cell_type": "code",
   "execution_count": 36,
   "metadata": {},
   "outputs": [],
   "source": [
    "from sklearn.ensemble import RandomForestClassifier"
   ]
  },
  {
   "cell_type": "code",
   "execution_count": 25,
   "metadata": {},
   "outputs": [],
   "source": [
    "df_predict=pd.read_csv('train_crystals.csv',index_col='identifiers')"
   ]
  },
  {
   "cell_type": "code",
   "execution_count": 26,
   "metadata": {},
   "outputs": [],
   "source": [
    "df_descriptors=pd.read_csv('train_descriptors.csv',index_col='identifiers')"
   ]
  },
  {
   "cell_type": "code",
   "execution_count": null,
   "metadata": {},
   "outputs": [],
   "source": []
  },
  {
   "cell_type": "code",
   "execution_count": 27,
   "metadata": {},
   "outputs": [],
   "source": [
    "d_1=df_predict['is_centrosymmetric']\n",
    "#d_1.head()"
   ]
  },
  {
   "cell_type": "code",
   "execution_count": null,
   "metadata": {},
   "outputs": [],
   "source": []
  },
  {
   "cell_type": "code",
   "execution_count": 64,
   "metadata": {},
   "outputs": [
    {
     "data": {
      "text/plain": [
       "(13449, 1617)"
      ]
     },
     "execution_count": 64,
     "metadata": {},
     "output_type": "execute_result"
    }
   ],
   "source": [
    "df_descriptors.shape"
   ]
  },
  {
   "cell_type": "code",
   "execution_count": 13,
   "metadata": {},
   "outputs": [
    {
     "data": {
      "text/plain": [
       "MAXsssSnH     13449\n",
       "MAXdssSe      13449\n",
       "MINssBe       13449\n",
       "MINsLi        13449\n",
       "MAXssssPb     13449\n",
       "              ...  \n",
       "NsssGeH           0\n",
       "NssssGe           0\n",
       "NsAsH2            0\n",
       "NssAsH            0\n",
       "Unnamed: 0        0\n",
       "Length: 1617, dtype: int64"
      ]
     },
     "execution_count": 13,
     "metadata": {},
     "output_type": "execute_result"
    }
   ],
   "source": [
    "df_descriptors.isna().sum().sort_values(ascending=False)"
   ]
  },
  {
   "cell_type": "code",
   "execution_count": 66,
   "metadata": {},
   "outputs": [
    {
     "data": {
      "text/html": [
       "<div>\n",
       "<style scoped>\n",
       "    .dataframe tbody tr th:only-of-type {\n",
       "        vertical-align: middle;\n",
       "    }\n",
       "\n",
       "    .dataframe tbody tr th {\n",
       "        vertical-align: top;\n",
       "    }\n",
       "\n",
       "    .dataframe thead th {\n",
       "        text-align: right;\n",
       "    }\n",
       "</style>\n",
       "<table border=\"1\" class=\"dataframe\">\n",
       "  <thead>\n",
       "    <tr style=\"text-align: right;\">\n",
       "      <th></th>\n",
       "      <th>Unnamed: 0</th>\n",
       "      <th>name</th>\n",
       "      <th>ABC</th>\n",
       "      <th>ABCGG</th>\n",
       "      <th>nAcid</th>\n",
       "      <th>nBase</th>\n",
       "      <th>SpAbs_A</th>\n",
       "      <th>SpMax_A</th>\n",
       "      <th>SpDiam_A</th>\n",
       "      <th>SpAD_A</th>\n",
       "      <th>...</th>\n",
       "      <th>MW</th>\n",
       "      <th>AMW</th>\n",
       "      <th>WPath</th>\n",
       "      <th>WPol</th>\n",
       "      <th>Zagreb1</th>\n",
       "      <th>Zagreb2</th>\n",
       "      <th>mZagreb1</th>\n",
       "      <th>mZagreb2</th>\n",
       "      <th>InchiKey</th>\n",
       "      <th>SMILES</th>\n",
       "    </tr>\n",
       "    <tr>\n",
       "      <th>identifiers</th>\n",
       "      <th></th>\n",
       "      <th></th>\n",
       "      <th></th>\n",
       "      <th></th>\n",
       "      <th></th>\n",
       "      <th></th>\n",
       "      <th></th>\n",
       "      <th></th>\n",
       "      <th></th>\n",
       "      <th></th>\n",
       "      <th></th>\n",
       "      <th></th>\n",
       "      <th></th>\n",
       "      <th></th>\n",
       "      <th></th>\n",
       "      <th></th>\n",
       "      <th></th>\n",
       "      <th></th>\n",
       "      <th></th>\n",
       "      <th></th>\n",
       "      <th></th>\n",
       "    </tr>\n",
       "  </thead>\n",
       "  <tbody>\n",
       "    <tr>\n",
       "      <td>COXSUE</td>\n",
       "      <td>11365</td>\n",
       "      <td>Optimised_Molecules_V3.3460</td>\n",
       "      <td>8.773011</td>\n",
       "      <td>8.632564</td>\n",
       "      <td>0</td>\n",
       "      <td>0</td>\n",
       "      <td>14.599164</td>\n",
       "      <td>2.244739</td>\n",
       "      <td>4.388162</td>\n",
       "      <td>14.599164</td>\n",
       "      <td>...</td>\n",
       "      <td>185.062283</td>\n",
       "      <td>8.046186</td>\n",
       "      <td>219</td>\n",
       "      <td>11</td>\n",
       "      <td>54.0</td>\n",
       "      <td>58.0</td>\n",
       "      <td>4.833333</td>\n",
       "      <td>2.777778</td>\n",
       "      <td>UYSCRWBEPUAZRA-UHFFFAOYSA-N</td>\n",
       "      <td>CC(=O)NN=C(C)C1=NCCS1</td>\n",
       "    </tr>\n",
       "    <tr>\n",
       "      <td>TUWFAU</td>\n",
       "      <td>58476</td>\n",
       "      <td>Optimised_Molecules_V3.19496</td>\n",
       "      <td>10.813451</td>\n",
       "      <td>10.346393</td>\n",
       "      <td>0</td>\n",
       "      <td>0</td>\n",
       "      <td>18.488707</td>\n",
       "      <td>2.357869</td>\n",
       "      <td>4.715737</td>\n",
       "      <td>18.488707</td>\n",
       "      <td>...</td>\n",
       "      <td>199.110947</td>\n",
       "      <td>7.111105</td>\n",
       "      <td>364</td>\n",
       "      <td>22</td>\n",
       "      <td>70.0</td>\n",
       "      <td>80.0</td>\n",
       "      <td>6.805556</td>\n",
       "      <td>3.583333</td>\n",
       "      <td>RYPSYCXCJSHDJX-UHFFFAOYSA-N</td>\n",
       "      <td>CC(C)N(C)c1ccc(C#N)cc1C#N</td>\n",
       "    </tr>\n",
       "    <tr>\n",
       "      <td>DUTHEG</td>\n",
       "      <td>31879</td>\n",
       "      <td>Optimised_Molecules_V3.5074</td>\n",
       "      <td>10.922841</td>\n",
       "      <td>9.584172</td>\n",
       "      <td>0</td>\n",
       "      <td>0</td>\n",
       "      <td>16.685332</td>\n",
       "      <td>2.436274</td>\n",
       "      <td>4.872549</td>\n",
       "      <td>16.685332</td>\n",
       "      <td>...</td>\n",
       "      <td>191.080710</td>\n",
       "      <td>8.307857</td>\n",
       "      <td>271</td>\n",
       "      <td>22</td>\n",
       "      <td>74.0</td>\n",
       "      <td>87.0</td>\n",
       "      <td>5.666667</td>\n",
       "      <td>3.000000</td>\n",
       "      <td>PVRUUABKIQNQFL-UHFFFAOYSA-N</td>\n",
       "      <td>Cc1cc(=O)n2c(N)nc(C)nc2n1</td>\n",
       "    </tr>\n",
       "    <tr>\n",
       "      <td>AXUDED08</td>\n",
       "      <td>2885</td>\n",
       "      <td>Optimised_Molecules_V3.988</td>\n",
       "      <td>7.140017</td>\n",
       "      <td>6.873356</td>\n",
       "      <td>0</td>\n",
       "      <td>0</td>\n",
       "      <td>12.857279</td>\n",
       "      <td>2.214320</td>\n",
       "      <td>4.428639</td>\n",
       "      <td>12.857279</td>\n",
       "      <td>...</td>\n",
       "      <td>136.052429</td>\n",
       "      <td>7.558468</td>\n",
       "      <td>121</td>\n",
       "      <td>11</td>\n",
       "      <td>44.0</td>\n",
       "      <td>48.0</td>\n",
       "      <td>3.722222</td>\n",
       "      <td>2.444444</td>\n",
       "      <td>QPJVMBTYPHYUOC-UHFFFAOYSA-N</td>\n",
       "      <td>COC(=O)c1ccccc1</td>\n",
       "    </tr>\n",
       "    <tr>\n",
       "      <td>ARAGUV</td>\n",
       "      <td>2660</td>\n",
       "      <td>Optimised_Molecules_V3.795</td>\n",
       "      <td>7.399237</td>\n",
       "      <td>7.308033</td>\n",
       "      <td>0</td>\n",
       "      <td>0</td>\n",
       "      <td>11.638727</td>\n",
       "      <td>2.249778</td>\n",
       "      <td>4.311276</td>\n",
       "      <td>11.638727</td>\n",
       "      <td>...</td>\n",
       "      <td>139.074562</td>\n",
       "      <td>7.319714</td>\n",
       "      <td>125</td>\n",
       "      <td>8</td>\n",
       "      <td>46.0</td>\n",
       "      <td>49.0</td>\n",
       "      <td>4.333333</td>\n",
       "      <td>2.250000</td>\n",
       "      <td>LUFRABHJXNJTNZ-UHFFFAOYSA-N</td>\n",
       "      <td>CC(=O)Nc1cc(C)[nH]n1</td>\n",
       "    </tr>\n",
       "  </tbody>\n",
       "</table>\n",
       "<p>5 rows × 1617 columns</p>\n",
       "</div>"
      ],
      "text/plain": [
       "             Unnamed: 0                          name        ABC      ABCGG  \\\n",
       "identifiers                                                                   \n",
       "COXSUE            11365   Optimised_Molecules_V3.3460   8.773011   8.632564   \n",
       "TUWFAU            58476  Optimised_Molecules_V3.19496  10.813451  10.346393   \n",
       "DUTHEG            31879   Optimised_Molecules_V3.5074  10.922841   9.584172   \n",
       "AXUDED08           2885    Optimised_Molecules_V3.988   7.140017   6.873356   \n",
       "ARAGUV             2660    Optimised_Molecules_V3.795   7.399237   7.308033   \n",
       "\n",
       "             nAcid  nBase    SpAbs_A   SpMax_A  SpDiam_A     SpAD_A  ...  \\\n",
       "identifiers                                                          ...   \n",
       "COXSUE           0      0  14.599164  2.244739  4.388162  14.599164  ...   \n",
       "TUWFAU           0      0  18.488707  2.357869  4.715737  18.488707  ...   \n",
       "DUTHEG           0      0  16.685332  2.436274  4.872549  16.685332  ...   \n",
       "AXUDED08         0      0  12.857279  2.214320  4.428639  12.857279  ...   \n",
       "ARAGUV           0      0  11.638727  2.249778  4.311276  11.638727  ...   \n",
       "\n",
       "                     MW       AMW  WPath  WPol  Zagreb1  Zagreb2  mZagreb1  \\\n",
       "identifiers                                                                  \n",
       "COXSUE       185.062283  8.046186    219    11     54.0     58.0  4.833333   \n",
       "TUWFAU       199.110947  7.111105    364    22     70.0     80.0  6.805556   \n",
       "DUTHEG       191.080710  8.307857    271    22     74.0     87.0  5.666667   \n",
       "AXUDED08     136.052429  7.558468    121    11     44.0     48.0  3.722222   \n",
       "ARAGUV       139.074562  7.319714    125     8     46.0     49.0  4.333333   \n",
       "\n",
       "             mZagreb2                     InchiKey                     SMILES  \n",
       "identifiers                                                                    \n",
       "COXSUE       2.777778  UYSCRWBEPUAZRA-UHFFFAOYSA-N      CC(=O)NN=C(C)C1=NCCS1  \n",
       "TUWFAU       3.583333  RYPSYCXCJSHDJX-UHFFFAOYSA-N  CC(C)N(C)c1ccc(C#N)cc1C#N  \n",
       "DUTHEG       3.000000  PVRUUABKIQNQFL-UHFFFAOYSA-N  Cc1cc(=O)n2c(N)nc(C)nc2n1  \n",
       "AXUDED08     2.444444  QPJVMBTYPHYUOC-UHFFFAOYSA-N            COC(=O)c1ccccc1  \n",
       "ARAGUV       2.250000  LUFRABHJXNJTNZ-UHFFFAOYSA-N       CC(=O)Nc1cc(C)[nH]n1  \n",
       "\n",
       "[5 rows x 1617 columns]"
      ]
     },
     "execution_count": 66,
     "metadata": {},
     "output_type": "execute_result"
    }
   ],
   "source": [
    "df_descriptors.head()"
   ]
  },
  {
   "cell_type": "code",
   "execution_count": 28,
   "metadata": {},
   "outputs": [],
   "source": [
    "df_descriptors.dropna(inplace=True, axis=1)"
   ]
  },
  {
   "cell_type": "code",
   "execution_count": 68,
   "metadata": {},
   "outputs": [
    {
     "data": {
      "text/plain": [
       "(13449, 988)"
      ]
     },
     "execution_count": 68,
     "metadata": {},
     "output_type": "execute_result"
    }
   ],
   "source": [
    "df_descriptors.shape"
   ]
  },
  {
   "cell_type": "code",
   "execution_count": null,
   "metadata": {},
   "outputs": [],
   "source": []
  },
  {
   "cell_type": "code",
   "execution_count": null,
   "metadata": {},
   "outputs": [],
   "source": [
    "\n"
   ]
  },
  {
   "cell_type": "code",
   "execution_count": null,
   "metadata": {},
   "outputs": [],
   "source": [
    "\n"
   ]
  },
  {
   "cell_type": "code",
   "execution_count": 29,
   "metadata": {},
   "outputs": [],
   "source": [
    "data=df_descriptors[['nAtom','nHetero',\n",
    "'nH',\n",
    "'nB',\n",
    "'nC',\n",
    "'nN',\n",
    "'nO',\n",
    "'nS',\n",
    "'nP',\n",
    "'nF',\n",
    "'nCl',\n",
    "'nBr',\n",
    "'nI']]"
   ]
  },
  {
   "cell_type": "code",
   "execution_count": 30,
   "metadata": {},
   "outputs": [
    {
     "data": {
      "text/html": [
       "<div>\n",
       "<style scoped>\n",
       "    .dataframe tbody tr th:only-of-type {\n",
       "        vertical-align: middle;\n",
       "    }\n",
       "\n",
       "    .dataframe tbody tr th {\n",
       "        vertical-align: top;\n",
       "    }\n",
       "\n",
       "    .dataframe thead th {\n",
       "        text-align: right;\n",
       "    }\n",
       "</style>\n",
       "<table border=\"1\" class=\"dataframe\">\n",
       "  <thead>\n",
       "    <tr style=\"text-align: right;\">\n",
       "      <th></th>\n",
       "      <th>nAtom</th>\n",
       "      <th>nHetero</th>\n",
       "      <th>nH</th>\n",
       "      <th>nB</th>\n",
       "      <th>nC</th>\n",
       "      <th>nN</th>\n",
       "      <th>nO</th>\n",
       "      <th>nS</th>\n",
       "      <th>nP</th>\n",
       "      <th>nF</th>\n",
       "      <th>nCl</th>\n",
       "      <th>nBr</th>\n",
       "      <th>nI</th>\n",
       "      <th>is_centrosymmetric</th>\n",
       "    </tr>\n",
       "    <tr>\n",
       "      <th>identifiers</th>\n",
       "      <th></th>\n",
       "      <th></th>\n",
       "      <th></th>\n",
       "      <th></th>\n",
       "      <th></th>\n",
       "      <th></th>\n",
       "      <th></th>\n",
       "      <th></th>\n",
       "      <th></th>\n",
       "      <th></th>\n",
       "      <th></th>\n",
       "      <th></th>\n",
       "      <th></th>\n",
       "      <th></th>\n",
       "    </tr>\n",
       "  </thead>\n",
       "  <tbody>\n",
       "    <tr>\n",
       "      <th>COXSUE</th>\n",
       "      <td>23</td>\n",
       "      <td>5</td>\n",
       "      <td>11</td>\n",
       "      <td>0</td>\n",
       "      <td>7</td>\n",
       "      <td>3</td>\n",
       "      <td>1</td>\n",
       "      <td>1</td>\n",
       "      <td>0</td>\n",
       "      <td>0</td>\n",
       "      <td>0</td>\n",
       "      <td>0</td>\n",
       "      <td>0</td>\n",
       "      <td>True</td>\n",
       "    </tr>\n",
       "    <tr>\n",
       "      <th>TUWFAU</th>\n",
       "      <td>28</td>\n",
       "      <td>3</td>\n",
       "      <td>13</td>\n",
       "      <td>0</td>\n",
       "      <td>12</td>\n",
       "      <td>3</td>\n",
       "      <td>0</td>\n",
       "      <td>0</td>\n",
       "      <td>0</td>\n",
       "      <td>0</td>\n",
       "      <td>0</td>\n",
       "      <td>0</td>\n",
       "      <td>0</td>\n",
       "      <td>True</td>\n",
       "    </tr>\n",
       "    <tr>\n",
       "      <th>DUTHEG</th>\n",
       "      <td>23</td>\n",
       "      <td>6</td>\n",
       "      <td>9</td>\n",
       "      <td>0</td>\n",
       "      <td>8</td>\n",
       "      <td>5</td>\n",
       "      <td>1</td>\n",
       "      <td>0</td>\n",
       "      <td>0</td>\n",
       "      <td>0</td>\n",
       "      <td>0</td>\n",
       "      <td>0</td>\n",
       "      <td>0</td>\n",
       "      <td>False</td>\n",
       "    </tr>\n",
       "    <tr>\n",
       "      <th>AXUDED08</th>\n",
       "      <td>18</td>\n",
       "      <td>2</td>\n",
       "      <td>8</td>\n",
       "      <td>0</td>\n",
       "      <td>8</td>\n",
       "      <td>0</td>\n",
       "      <td>2</td>\n",
       "      <td>0</td>\n",
       "      <td>0</td>\n",
       "      <td>0</td>\n",
       "      <td>0</td>\n",
       "      <td>0</td>\n",
       "      <td>0</td>\n",
       "      <td>True</td>\n",
       "    </tr>\n",
       "    <tr>\n",
       "      <th>ARAGUV</th>\n",
       "      <td>19</td>\n",
       "      <td>4</td>\n",
       "      <td>9</td>\n",
       "      <td>0</td>\n",
       "      <td>6</td>\n",
       "      <td>3</td>\n",
       "      <td>1</td>\n",
       "      <td>0</td>\n",
       "      <td>0</td>\n",
       "      <td>0</td>\n",
       "      <td>0</td>\n",
       "      <td>0</td>\n",
       "      <td>0</td>\n",
       "      <td>False</td>\n",
       "    </tr>\n",
       "  </tbody>\n",
       "</table>\n",
       "</div>"
      ],
      "text/plain": [
       "             nAtom  nHetero  nH  nB  nC  nN  nO  nS  nP  nF  nCl  nBr  nI  \\\n",
       "identifiers                                                                 \n",
       "COXSUE          23        5  11   0   7   3   1   1   0   0    0    0   0   \n",
       "TUWFAU          28        3  13   0  12   3   0   0   0   0    0    0   0   \n",
       "DUTHEG          23        6   9   0   8   5   1   0   0   0    0    0   0   \n",
       "AXUDED08        18        2   8   0   8   0   2   0   0   0    0    0   0   \n",
       "ARAGUV          19        4   9   0   6   3   1   0   0   0    0    0   0   \n",
       "\n",
       "             is_centrosymmetric  \n",
       "identifiers                      \n",
       "COXSUE                     True  \n",
       "TUWFAU                     True  \n",
       "DUTHEG                    False  \n",
       "AXUDED08                   True  \n",
       "ARAGUV                    False  "
      ]
     },
     "execution_count": 30,
     "metadata": {},
     "output_type": "execute_result"
    }
   ],
   "source": [
    "d=pd.concat([data, d_1],axis=1)\n",
    "d.head()"
   ]
  },
  {
   "cell_type": "code",
   "execution_count": 41,
   "metadata": {},
   "outputs": [],
   "source": [
    "X_train=d.drop('is_centrosymmetric',axis=1)\n",
    "y_train=d['is_centrosymmetric']"
   ]
  },
  {
   "cell_type": "code",
   "execution_count": 42,
   "metadata": {},
   "outputs": [
    {
     "data": {
      "text/plain": [
       "RandomForestClassifier()"
      ]
     },
     "execution_count": 42,
     "metadata": {},
     "output_type": "execute_result"
    }
   ],
   "source": [
    "model=RandomForestClassifier(n_estimators=100)\n",
    "model.fit(X_train,y_train)\n"
   ]
  },
  {
   "cell_type": "code",
   "execution_count": 44,
   "metadata": {},
   "outputs": [],
   "source": [
    "test_desc=pd.read_csv('test_descriptors.csv',index_col='identifiers')"
   ]
  },
  {
   "cell_type": "code",
   "execution_count": 46,
   "metadata": {},
   "outputs": [],
   "source": [
    "X_test=test_desc[['nAtom','nHetero',\n",
    "'nH',\n",
    "'nB',\n",
    "'nC',\n",
    "'nN',\n",
    "'nO',\n",
    "'nS',\n",
    "'nP',\n",
    "'nF',\n",
    "'nCl',\n",
    "'nBr',\n",
    "'nI']]"
   ]
  },
  {
   "cell_type": "code",
   "execution_count": 47,
   "metadata": {},
   "outputs": [],
   "source": [
    "pred=model.predict(X_test)"
   ]
  },
  {
   "cell_type": "code",
   "execution_count": 48,
   "metadata": {},
   "outputs": [],
   "source": [
    "np.savetxt('task_2_predictions.csv',pred)"
   ]
  },
  {
   "cell_type": "code",
   "execution_count": null,
   "metadata": {},
   "outputs": [],
   "source": []
  }
 ],
 "metadata": {
  "kernelspec": {
   "display_name": "Python 3",
   "language": "python",
   "name": "python3"
  },
  "language_info": {
   "codemirror_mode": {
    "name": "ipython",
    "version": 3
   },
   "file_extension": ".py",
   "mimetype": "text/x-python",
   "name": "python",
   "nbconvert_exporter": "python",
   "pygments_lexer": "ipython3",
   "version": "3.8.5"
  }
 },
 "nbformat": 4,
 "nbformat_minor": 2
}
