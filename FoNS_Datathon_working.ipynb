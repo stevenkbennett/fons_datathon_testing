{
 "cells": [
  {
   "cell_type": "markdown",
   "metadata": {},
   "source": [
    "# FoNS Datathon 2021 "
   ]
  },
  {
   "cell_type": "code",
   "execution_count": 4,
   "metadata": {},
   "outputs": [],
   "source": [
    "import pandas as pd\r\n",
    "import numpy as np\r\n",
    "import matplotlib.pyplot as plt\r\n",
    "from sklearn import *\r\n",
    "import tensorflow as tf\r\n",
    "\r\n",
    "physical_devices = tf.config.list_physical_devices('GPU')\r\n",
    "tf.config.experimental.set_memory_growth(physical_devices[0], True)"
   ]
  },
  {
   "cell_type": "code",
   "execution_count": 5,
   "metadata": {},
   "outputs": [],
   "source": [
    "train_descriptors = pd.read_csv(\"train_descriptors.csv\")\n",
    "train_mord3d = pd.read_csv(\"train_mord3d.csv\")\n",
    "train_morgan = pd.read_csv(\"train_morgan.csv\")\n",
    "train_rdk = pd.read_csv(\"train_rdk.csv\")\n",
    "\n",
    "train_crystals = pd.read_csv(\"train_crystals.csv\")\n",
    "train_distances = pd.read_csv(\"train_distances.csv\")\n",
    "train_centroid_distances = pd.read_csv(\"train_centroid_distances.csv\")"
   ]
  },
  {
   "cell_type": "code",
   "execution_count": 6,
   "metadata": {},
   "outputs": [],
   "source": [
    "test_descriptors = pd.read_csv(\"test_descriptors.csv\")\n",
    "test_mord3d = pd.read_csv(\"test_mord3d.csv\")\n",
    "test_morgan = pd.read_csv(\"test_morgan.csv\")\n",
    "test_rdk = pd.read_csv(\"test_rdk.csv\")"
   ]
  },
  {
   "cell_type": "markdown",
   "metadata": {},
   "source": [
    "#### Data pre-processing"
   ]
  },
  {
   "cell_type": "code",
   "execution_count": 7,
   "metadata": {},
   "outputs": [
    {
     "data": {
      "text/plain": "(13449, 984)"
     },
     "execution_count": 7,
     "metadata": {},
     "output_type": "execute_result"
    }
   ],
   "source": [
    "train_descriptors_full = train_descriptors.iloc[:, 3:-2].dropna(axis= 1, how=\"any\")\r\n",
    "train_descriptors_full.shape"
   ]
  },
  {
   "cell_type": "code",
   "execution_count": 305,
   "metadata": {},
   "outputs": [
    {
     "data": {
      "text/plain": "(3363, 984)"
     },
     "execution_count": 305,
     "metadata": {},
     "output_type": "execute_result"
    }
   ],
   "source": [
    "test_descriptors_full = test_descriptors[train_descriptors_full.columns]\n",
    "test_descriptors_full.shape"
   ]
  },
  {
   "cell_type": "code",
   "execution_count": 17,
   "metadata": {},
   "outputs": [],
   "source": [
    "X_train, X_val, y_train, y_val = model_selection.train_test_split(train_descriptors_full, train_crystals, test_size=0.2, random_state=47)"
   ]
  },
  {
   "cell_type": "code",
   "execution_count": 10,
   "metadata": {},
   "outputs": [],
   "source": [
    "X_train3, X_val3, y_train3, y_val3 = model_selection.train_test_split(train_descriptors_full, train_centroid_distances, test_size=0.2, random_state=47)"
   ]
  },
  {
   "cell_type": "code",
   "execution_count": 328,
   "metadata": {},
   "outputs": [],
   "source": [
    "X_train4, X_val4, y_train4, y_val4 = model_selection.train_test_split(train_descriptors_full, train_distances, test_size=0.2, random_state=47)"
   ]
  },
  {
   "cell_type": "code",
   "execution_count": 269,
   "metadata": {},
   "outputs": [
    {
     "name": "stdout",
     "output_type": "stream",
     "text": [
      "(10759, 123) (2690, 123)\n"
     ]
    }
   ],
   "source": [
    "train_PCA = decomposition.PCA(n_components=0.95)\r\n",
    "scaler_for_PCA = preprocessing.StandardScaler()\r\n",
    "X_trainPCA = train_PCA.fit_transform(scaler_for_PCA.fit_transform(X_train))\r\n",
    "X_valPCA = train_PCA.transform(scaler_for_PCA.transform(X_val))\r\n",
    "print(X_trainPCA.shape, X_valPCA.shape)"
   ]
  },
  {
   "cell_type": "markdown",
   "metadata": {},
   "source": [
    "#### T4"
   ]
  },
  {
   "cell_type": "code",
   "execution_count": 329,
   "metadata": {},
   "outputs": [
    {
     "name": "stdout",
     "output_type": "stream",
     "text": [
      "(10759, 123) (2690, 123)\n"
     ]
    }
   ],
   "source": [
    "train_PCA = decomposition.PCA(n_components=0.95)\r\n",
    "scaler_for_PCA = preprocessing.StandardScaler()\r\n",
    "X_trainPCA = train_PCA.fit_transform(scaler_for_PCA.fit_transform(X_train4))\r\n",
    "X_valPCA = train_PCA.transform(scaler_for_PCA.transform(X_val4))\r\n",
    "print(X_trainPCA.shape, X_valPCA.shape)"
   ]
  },
  {
   "cell_type": "code",
   "execution_count": 331,
   "metadata": {},
   "outputs": [
    {
     "data": {
      "text/plain": "SVR()"
     },
     "execution_count": 331,
     "metadata": {},
     "output_type": "execute_result"
    }
   ],
   "source": [
    "M1=svm.SVR()\r\n",
    "M1.fit(X_trainPCA,y_train4.n_vdw_contacts)"
   ]
  },
  {
   "cell_type": "code",
   "execution_count": 348,
   "metadata": {},
   "outputs": [],
   "source": [
    "M1Predictions=M1.predict(X_trainPCA)\r\n",
    "M1MAE=metrics.mean_absolute_error(y_train4.n_vdw_contacts,M1Predictions)"
   ]
  },
  {
   "cell_type": "code",
   "execution_count": 333,
   "metadata": {},
   "outputs": [
    {
     "data": {
      "text/plain": "3.747496479376554"
     },
     "execution_count": 333,
     "metadata": {},
     "output_type": "execute_result"
    }
   ],
   "source": [
    "metrics.mean_absolute_error(y_train4.n_vdw_contacts,M1.predict(X_trainPCA))"
   ]
  },
  {
   "cell_type": "code",
   "execution_count": 349,
   "metadata": {},
   "outputs": [
    {
     "data": {
      "text/plain": "3.747496479376554"
     },
     "execution_count": 349,
     "metadata": {},
     "output_type": "execute_result"
    }
   ],
   "source": [
    "M1MAE"
   ]
  },
  {
   "cell_type": "code",
   "execution_count": 357,
   "metadata": {},
   "outputs": [
    {
     "data": {
      "text/plain": "LinearRegression()"
     },
     "execution_count": 357,
     "metadata": {},
     "output_type": "execute_result"
    }
   ],
   "source": [
    "model3 = linear_model.LinearRegression()\r\n",
    "model3.fit(X_train4, y_train4[target])"
   ]
  },
  {
   "cell_type": "code",
   "execution_count": 359,
   "metadata": {},
   "outputs": [],
   "source": [
    "m3 = model3.predict(test_descriptors_full)"
   ]
  },
  {
   "cell_type": "code",
   "execution_count": 362,
   "metadata": {},
   "outputs": [],
   "source": [
    "np.savetxt(\"task_4_predictions.csv\", m3, delimiter=\",\")"
   ]
  },
  {
   "cell_type": "code",
   "execution_count": null,
   "metadata": {},
   "outputs": [],
   "source": []
  },
  {
   "cell_type": "markdown",
   "metadata": {},
   "source": [
    "#### T1 upload"
   ]
  },
  {
   "cell_type": "code",
   "execution_count": 321,
   "metadata": {},
   "outputs": [
    {
     "data": {
      "text/plain": "SVR()"
     },
     "execution_count": 321,
     "metadata": {},
     "output_type": "execute_result"
    }
   ],
   "source": [
    "target = \"calculated_density\"\r\n",
    "model1u = svm.SVR()\r\n",
    "model1u.fit(train_descriptors_full, train_crystals[target])\r\n",
    "#m1upred = model1u.predict(X_val3)\r\n",
    "#metrics.mean_absolute_error(y_val[target], m1pred)"
   ]
  },
  {
   "cell_type": "code",
   "execution_count": 323,
   "metadata": {},
   "outputs": [
    {
     "data": {
      "text/plain": "0.05446367097204109"
     },
     "execution_count": 323,
     "metadata": {},
     "output_type": "execute_result"
    }
   ],
   "source": [
    "metrics.mean_absolute_error(train_crystals[target], m1upred)"
   ]
  },
  {
   "cell_type": "code",
   "execution_count": 325,
   "metadata": {},
   "outputs": [],
   "source": [
    "m1upred = model1u.predict(test_descriptors_full)"
   ]
  },
  {
   "cell_type": "code",
   "execution_count": 327,
   "metadata": {},
   "outputs": [],
   "source": [
    "np.savetxt(\"task_1_predictions.csv\", m1upred, delimiter=\",\")"
   ]
  },
  {
   "cell_type": "code",
   "execution_count": 338,
   "metadata": {},
   "outputs": [
    {
     "data": {
      "text/plain": "SVR()"
     },
     "execution_count": 338,
     "metadata": {},
     "output_type": "execute_result"
    }
   ],
   "source": [
    "target = \"packing_coefficient\"\r\n",
    "model1u = svm.SVR()\r\n",
    "model1u.fit(train_descriptors_full, train_crystals[target])\r\n",
    "#m1upred = model1u.predict(X_val3)\r\n",
    "#metrics.mean_absolute_error(y_val[target], m1pred)"
   ]
  },
  {
   "cell_type": "code",
   "execution_count": 346,
   "metadata": {},
   "outputs": [],
   "source": [
    "m1upred = model1u.predict(test_descriptors_full)"
   ]
  },
  {
   "cell_type": "code",
   "execution_count": 342,
   "metadata": {},
   "outputs": [
    {
     "data": {
      "text/plain": "(3363,)"
     },
     "execution_count": 342,
     "metadata": {},
     "output_type": "execute_result"
    }
   ],
   "source": [
    "m1upred.shape"
   ]
  },
  {
   "cell_type": "code",
   "execution_count": 343,
   "metadata": {},
   "outputs": [
    {
     "data": {
      "text/plain": "(13449,)"
     },
     "execution_count": 343,
     "metadata": {},
     "output_type": "execute_result"
    }
   ],
   "source": [
    "train_crystals[target].shape"
   ]
  },
  {
   "cell_type": "code",
   "execution_count": 345,
   "metadata": {},
   "outputs": [
    {
     "data": {
      "text/plain": "0.029897423264469383"
     },
     "execution_count": 345,
     "metadata": {},
     "output_type": "execute_result"
    }
   ],
   "source": [
    "metrics.mean_absolute_error(train_crystals[target], m1upred)"
   ]
  },
  {
   "cell_type": "code",
   "execution_count": 347,
   "metadata": {},
   "outputs": [],
   "source": [
    "np.savetxt(\"bonus_1_predictions.csv\", m1upred, delimiter=\",\")"
   ]
  },
  {
   "cell_type": "markdown",
   "metadata": {},
   "source": [
    "#### T2 upload"
   ]
  },
  {
   "cell_type": "code",
   "execution_count": 314,
   "metadata": {},
   "outputs": [],
   "source": [
    "nntestpred = modelnn.predict(test_descriptors_PCA)"
   ]
  },
  {
   "cell_type": "code",
   "execution_count": 315,
   "metadata": {},
   "outputs": [],
   "source": [
    "nntestpred = np.argmax(nntestpred, axis=1)"
   ]
  },
  {
   "cell_type": "code",
   "execution_count": 319,
   "metadata": {},
   "outputs": [],
   "source": [
    "nntpbool = nntestpred.astype(np.bool)"
   ]
  },
  {
   "cell_type": "code",
   "execution_count": 320,
   "metadata": {},
   "outputs": [],
   "source": [
    "np.savetxt(\"task_2_predictions.csv\", nntpbool, delimiter=\",\")"
   ]
  },
  {
   "cell_type": "code",
   "execution_count": 310,
   "metadata": {},
   "outputs": [
    {
     "name": "stdout",
     "output_type": "stream",
     "text": [
      "Epoch 1/400\n",
      "4/4 [==============================] - 0s 8ms/step - loss: 1.8131 - accuracy: 0.6299\n",
      "Epoch 2/400\n",
      "4/4 [==============================] - 0s 8ms/step - loss: 1.6415 - accuracy: 0.8038\n",
      "Epoch 3/400\n",
      "4/4 [==============================] - 0s 9ms/step - loss: 1.5900 - accuracy: 0.8038\n",
      "Epoch 4/400\n",
      "4/4 [==============================] - 0s 7ms/step - loss: 1.5432 - accuracy: 0.8039\n",
      "Epoch 5/400\n",
      "4/4 [==============================] - 0s 9ms/step - loss: 1.4879 - accuracy: 0.8039\n",
      "Epoch 6/400\n",
      "4/4 [==============================] - 0s 8ms/step - loss: 1.4400 - accuracy: 0.8039\n",
      "Epoch 7/400\n",
      "4/4 [==============================] - 0s 7ms/step - loss: 1.3946 - accuracy: 0.8039\n",
      "Epoch 8/400\n",
      "4/4 [==============================] - 0s 7ms/step - loss: 1.3493 - accuracy: 0.8039\n",
      "Epoch 9/400\n",
      "4/4 [==============================] - 0s 8ms/step - loss: 1.3078 - accuracy: 0.8039\n",
      "Epoch 10/400\n",
      "4/4 [==============================] - 0s 7ms/step - loss: 1.2649 - accuracy: 0.8039\n",
      "Epoch 11/400\n",
      "4/4 [==============================] - 0s 7ms/step - loss: 1.2273 - accuracy: 0.8039\n",
      "Epoch 12/400\n",
      "4/4 [==============================] - 0s 6ms/step - loss: 1.1870 - accuracy: 0.8039\n",
      "Epoch 13/400\n",
      "4/4 [==============================] - 0s 8ms/step - loss: 1.1512 - accuracy: 0.8039\n",
      "Epoch 14/400\n",
      "4/4 [==============================] - 0s 7ms/step - loss: 1.1177 - accuracy: 0.8039\n",
      "Epoch 15/400\n",
      "4/4 [==============================] - 0s 7ms/step - loss: 1.0851 - accuracy: 0.8039\n",
      "Epoch 16/400\n",
      "4/4 [==============================] - 0s 7ms/step - loss: 1.0511 - accuracy: 0.8039\n",
      "Epoch 17/400\n",
      "4/4 [==============================] - 0s 7ms/step - loss: 1.0207 - accuracy: 0.8039\n",
      "Epoch 18/400\n",
      "4/4 [==============================] - 0s 7ms/step - loss: 0.9945 - accuracy: 0.8039\n",
      "Epoch 19/400\n",
      "4/4 [==============================] - 0s 7ms/step - loss: 0.9655 - accuracy: 0.8039\n",
      "Epoch 20/400\n",
      "4/4 [==============================] - 0s 6ms/step - loss: 0.9399 - accuracy: 0.8039\n",
      "Epoch 21/400\n",
      "4/4 [==============================] - 0s 8ms/step - loss: 0.9138 - accuracy: 0.8039\n",
      "Epoch 22/400\n",
      "4/4 [==============================] - 0s 7ms/step - loss: 0.8893 - accuracy: 0.8039\n",
      "Epoch 23/400\n",
      "4/4 [==============================] - 0s 8ms/step - loss: 0.8673 - accuracy: 0.8043\n",
      "Epoch 24/400\n",
      "4/4 [==============================] - 0s 7ms/step - loss: 0.8434 - accuracy: 0.8059\n",
      "Epoch 25/400\n",
      "4/4 [==============================] - 0s 8ms/step - loss: 0.8208 - accuracy: 0.8079\n",
      "Epoch 26/400\n",
      "4/4 [==============================] - 0s 8ms/step - loss: 0.8008 - accuracy: 0.8123\n",
      "Epoch 27/400\n",
      "4/4 [==============================] - 0s 7ms/step - loss: 0.7771 - accuracy: 0.8202\n",
      "Epoch 28/400\n",
      "4/4 [==============================] - 0s 7ms/step - loss: 0.7616 - accuracy: 0.8198\n",
      "Epoch 29/400\n",
      "4/4 [==============================] - 0s 8ms/step - loss: 0.7418 - accuracy: 0.8247\n",
      "Epoch 30/400\n",
      "4/4 [==============================] - 0s 7ms/step - loss: 0.7202 - accuracy: 0.8281\n",
      "Epoch 31/400\n",
      "4/4 [==============================] - 0s 6ms/step - loss: 0.7011 - accuracy: 0.8314\n",
      "Epoch 32/400\n",
      "4/4 [==============================] - 0s 7ms/step - loss: 0.6859 - accuracy: 0.8320\n",
      "Epoch 33/400\n",
      "4/4 [==============================] - 0s 7ms/step - loss: 0.6650 - accuracy: 0.8374\n",
      "Epoch 34/400\n",
      "4/4 [==============================] - 0s 6ms/step - loss: 0.6537 - accuracy: 0.8398\n",
      "Epoch 35/400\n",
      "4/4 [==============================] - 0s 7ms/step - loss: 0.6324 - accuracy: 0.8412\n",
      "Epoch 36/400\n",
      "4/4 [==============================] - 0s 7ms/step - loss: 0.6193 - accuracy: 0.8459\n",
      "Epoch 37/400\n",
      "4/4 [==============================] - 0s 8ms/step - loss: 0.5991 - accuracy: 0.8538\n",
      "Epoch 38/400\n",
      "4/4 [==============================] - 0s 7ms/step - loss: 0.5826 - accuracy: 0.8572\n",
      "Epoch 39/400\n",
      "4/4 [==============================] - 0s 7ms/step - loss: 0.5721 - accuracy: 0.8592\n",
      "Epoch 40/400\n",
      "4/4 [==============================] - 0s 8ms/step - loss: 0.5570 - accuracy: 0.8639\n",
      "Epoch 41/400\n",
      "4/4 [==============================] - 0s 7ms/step - loss: 0.5704 - accuracy: 0.8558\n",
      "Epoch 42/400\n",
      "4/4 [==============================] - 0s 6ms/step - loss: 0.5388 - accuracy: 0.8655\n",
      "Epoch 43/400\n",
      "4/4 [==============================] - 0s 7ms/step - loss: 0.5405 - accuracy: 0.8672\n",
      "Epoch 44/400\n",
      "4/4 [==============================] - 0s 7ms/step - loss: 0.5647 - accuracy: 0.8488\n",
      "Epoch 45/400\n",
      "4/4 [==============================] - 0s 7ms/step - loss: 0.5618 - accuracy: 0.8549\n",
      "Epoch 46/400\n",
      "4/4 [==============================] - 0s 7ms/step - loss: 0.5451 - accuracy: 0.8590\n",
      "Epoch 47/400\n",
      "4/4 [==============================] - 0s 8ms/step - loss: 0.5055 - accuracy: 0.8775\n",
      "Epoch 48/400\n",
      "4/4 [==============================] - 0s 7ms/step - loss: 0.5007 - accuracy: 0.8771\n",
      "Epoch 49/400\n",
      "4/4 [==============================] - 0s 7ms/step - loss: 0.5086 - accuracy: 0.8729\n",
      "Epoch 50/400\n",
      "4/4 [==============================] - 0s 7ms/step - loss: 0.4810 - accuracy: 0.8784\n",
      "Epoch 51/400\n",
      "4/4 [==============================] - 0s 7ms/step - loss: 0.4560 - accuracy: 0.8928\n",
      "Epoch 52/400\n",
      "4/4 [==============================] - 0s 7ms/step - loss: 0.4458 - accuracy: 0.8937\n",
      "Epoch 53/400\n",
      "4/4 [==============================] - 0s 7ms/step - loss: 0.4224 - accuracy: 0.9040\n",
      "Epoch 54/400\n",
      "4/4 [==============================] - 0s 7ms/step - loss: 0.4167 - accuracy: 0.9074\n",
      "Epoch 55/400\n",
      "4/4 [==============================] - 0s 7ms/step - loss: 0.4212 - accuracy: 0.9016\n",
      "Epoch 56/400\n",
      "4/4 [==============================] - 0s 7ms/step - loss: 0.4062 - accuracy: 0.9093\n",
      "Epoch 57/400\n",
      "4/4 [==============================] - 0s 7ms/step - loss: 0.4023 - accuracy: 0.9071\n",
      "Epoch 58/400\n",
      "4/4 [==============================] - 0s 7ms/step - loss: 0.3946 - accuracy: 0.9097\n",
      "Epoch 59/400\n",
      "4/4 [==============================] - 0s 7ms/step - loss: 0.3961 - accuracy: 0.9084\n",
      "Epoch 60/400\n",
      "4/4 [==============================] - 0s 9ms/step - loss: 0.3850 - accuracy: 0.9120\n",
      "Epoch 61/400\n",
      "4/4 [==============================] - 0s 7ms/step - loss: 0.3894 - accuracy: 0.9064\n",
      "Epoch 62/400\n",
      "4/4 [==============================] - 0s 7ms/step - loss: 0.4021 - accuracy: 0.9043\n",
      "Epoch 63/400\n",
      "4/4 [==============================] - 0s 7ms/step - loss: 0.4477 - accuracy: 0.8778\n",
      "Epoch 64/400\n",
      "4/4 [==============================] - 0s 7ms/step - loss: 0.4181 - accuracy: 0.9031\n",
      "Epoch 65/400\n",
      "4/4 [==============================] - 0s 7ms/step - loss: 0.4007 - accuracy: 0.8993\n",
      "Epoch 66/400\n",
      "4/4 [==============================] - 0s 7ms/step - loss: 0.3793 - accuracy: 0.9156\n",
      "Epoch 67/400\n",
      "4/4 [==============================] - 0s 7ms/step - loss: 0.3694 - accuracy: 0.9139\n",
      "Epoch 68/400\n",
      "4/4 [==============================] - 0s 7ms/step - loss: 0.3445 - accuracy: 0.9241\n",
      "Epoch 69/400\n",
      "4/4 [==============================] - 0s 7ms/step - loss: 0.3477 - accuracy: 0.9225\n",
      "Epoch 70/400\n",
      "4/4 [==============================] - 0s 7ms/step - loss: 0.3419 - accuracy: 0.9245\n",
      "Epoch 71/400\n",
      "4/4 [==============================] - 0s 6ms/step - loss: 0.3409 - accuracy: 0.9233\n",
      "Epoch 72/400\n",
      "4/4 [==============================] - 0s 7ms/step - loss: 0.3211 - accuracy: 0.9346\n",
      "Epoch 73/400\n",
      "4/4 [==============================] - 0s 7ms/step - loss: 0.3240 - accuracy: 0.9308\n",
      "Epoch 74/400\n",
      "4/4 [==============================] - 0s 7ms/step - loss: 0.3423 - accuracy: 0.9216\n",
      "Epoch 75/400\n",
      "4/4 [==============================] - 0s 7ms/step - loss: 0.3651 - accuracy: 0.9125\n",
      "Epoch 76/400\n",
      "4/4 [==============================] - 0s 7ms/step - loss: 0.3288 - accuracy: 0.9254\n",
      "Epoch 77/400\n",
      "4/4 [==============================] - 0s 7ms/step - loss: 0.3259 - accuracy: 0.9306\n",
      "Epoch 78/400\n",
      "4/4 [==============================] - 0s 8ms/step - loss: 0.2946 - accuracy: 0.9419\n",
      "Epoch 79/400\n",
      "4/4 [==============================] - 0s 7ms/step - loss: 0.2948 - accuracy: 0.9417\n",
      "Epoch 80/400\n",
      "4/4 [==============================] - 0s 7ms/step - loss: 0.2880 - accuracy: 0.9422\n",
      "Epoch 81/400\n",
      "4/4 [==============================] - 0s 8ms/step - loss: 0.2792 - accuracy: 0.9458\n",
      "Epoch 82/400\n",
      "4/4 [==============================] - 0s 6ms/step - loss: 0.2735 - accuracy: 0.9477\n",
      "Epoch 83/400\n",
      "4/4 [==============================] - 0s 7ms/step - loss: 0.2633 - accuracy: 0.9514\n",
      "Epoch 84/400\n",
      "4/4 [==============================] - 0s 8ms/step - loss: 0.2712 - accuracy: 0.9477\n",
      "Epoch 85/400\n",
      "4/4 [==============================] - 0s 7ms/step - loss: 0.3165 - accuracy: 0.9253\n",
      "Epoch 86/400\n",
      "4/4 [==============================] - 0s 7ms/step - loss: 0.4106 - accuracy: 0.8871\n",
      "Epoch 87/400\n",
      "4/4 [==============================] - 0s 7ms/step - loss: 0.3679 - accuracy: 0.9043\n",
      "Epoch 88/400\n",
      "4/4 [==============================] - 0s 7ms/step - loss: 0.3680 - accuracy: 0.8947\n",
      "Epoch 89/400\n",
      "4/4 [==============================] - 0s 7ms/step - loss: 0.3178 - accuracy: 0.9343\n",
      "Epoch 90/400\n",
      "4/4 [==============================] - 0s 7ms/step - loss: 0.2885 - accuracy: 0.9426\n",
      "Epoch 91/400\n",
      "4/4 [==============================] - 0s 7ms/step - loss: 0.2974 - accuracy: 0.9343\n",
      "Epoch 92/400\n",
      "4/4 [==============================] - 0s 7ms/step - loss: 0.2921 - accuracy: 0.9379\n",
      "Epoch 93/400\n",
      "4/4 [==============================] - 0s 7ms/step - loss: 0.2661 - accuracy: 0.9471\n",
      "Epoch 94/400\n",
      "4/4 [==============================] - 0s 7ms/step - loss: 0.2645 - accuracy: 0.9471\n",
      "Epoch 95/400\n",
      "4/4 [==============================] - 0s 7ms/step - loss: 0.2588 - accuracy: 0.9494\n",
      "Epoch 96/400\n",
      "4/4 [==============================] - 0s 7ms/step - loss: 0.2539 - accuracy: 0.9513\n",
      "Epoch 97/400\n",
      "4/4 [==============================] - 0s 7ms/step - loss: 0.2476 - accuracy: 0.9537\n",
      "Epoch 98/400\n",
      "4/4 [==============================] - 0s 7ms/step - loss: 0.2466 - accuracy: 0.9546\n",
      "Epoch 99/400\n",
      "4/4 [==============================] - 0s 8ms/step - loss: 0.2459 - accuracy: 0.9532\n",
      "Epoch 100/400\n",
      "4/4 [==============================] - 0s 6ms/step - loss: 0.2381 - accuracy: 0.9564\n",
      "Epoch 101/400\n",
      "4/4 [==============================] - 0s 6ms/step - loss: 0.2341 - accuracy: 0.9566\n",
      "Epoch 102/400\n",
      "4/4 [==============================] - 0s 7ms/step - loss: 0.2327 - accuracy: 0.9573\n",
      "Epoch 103/400\n",
      "4/4 [==============================] - 0s 7ms/step - loss: 0.2355 - accuracy: 0.9544\n",
      "Epoch 104/400\n",
      "4/4 [==============================] - 0s 7ms/step - loss: 0.2461 - accuracy: 0.9491\n",
      "Epoch 105/400\n",
      "4/4 [==============================] - 0s 7ms/step - loss: 0.2431 - accuracy: 0.9530\n",
      "Epoch 106/400\n",
      "4/4 [==============================] - 0s 7ms/step - loss: 0.2467 - accuracy: 0.9512\n",
      "Epoch 107/400\n",
      "4/4 [==============================] - 0s 7ms/step - loss: 0.2880 - accuracy: 0.9329\n",
      "Epoch 108/400\n",
      "4/4 [==============================] - 0s 7ms/step - loss: 0.2757 - accuracy: 0.9396\n",
      "Epoch 109/400\n",
      "4/4 [==============================] - 0s 7ms/step - loss: 0.2640 - accuracy: 0.9410\n",
      "Epoch 110/400\n",
      "4/4 [==============================] - 0s 7ms/step - loss: 0.2461 - accuracy: 0.9515\n",
      "Epoch 111/400\n",
      "4/4 [==============================] - 0s 7ms/step - loss: 0.2332 - accuracy: 0.9546\n",
      "Epoch 112/400\n",
      "4/4 [==============================] - 0s 7ms/step - loss: 0.2236 - accuracy: 0.9581\n",
      "Epoch 113/400\n",
      "4/4 [==============================] - 0s 7ms/step - loss: 0.2243 - accuracy: 0.9582\n",
      "Epoch 114/400\n",
      "4/4 [==============================] - 0s 7ms/step - loss: 0.2252 - accuracy: 0.9561\n",
      "Epoch 115/400\n",
      "4/4 [==============================] - 0s 7ms/step - loss: 0.2253 - accuracy: 0.9574\n",
      "Epoch 116/400\n",
      "4/4 [==============================] - 0s 7ms/step - loss: 0.2148 - accuracy: 0.9613\n",
      "Epoch 117/400\n",
      "4/4 [==============================] - 0s 7ms/step - loss: 0.2134 - accuracy: 0.9627\n",
      "Epoch 118/400\n",
      "4/4 [==============================] - 0s 7ms/step - loss: 0.2148 - accuracy: 0.9622\n",
      "Epoch 119/400\n",
      "4/4 [==============================] - 0s 7ms/step - loss: 0.2079 - accuracy: 0.9648\n",
      "Epoch 120/400\n",
      "4/4 [==============================] - 0s 7ms/step - loss: 0.2046 - accuracy: 0.9639\n",
      "Epoch 121/400\n",
      "4/4 [==============================] - 0s 7ms/step - loss: 0.2249 - accuracy: 0.9553\n",
      "Epoch 122/400\n",
      "4/4 [==============================] - 0s 15ms/step - loss: 0.2145 - accuracy: 0.9601\n",
      "Epoch 123/400\n",
      "4/4 [==============================] - 0s 8ms/step - loss: 0.2191 - accuracy: 0.9593\n",
      "Epoch 124/400\n",
      "4/4 [==============================] - 0s 7ms/step - loss: 0.2178 - accuracy: 0.9597\n",
      "Epoch 125/400\n",
      "4/4 [==============================] - 0s 7ms/step - loss: 0.2309 - accuracy: 0.9520\n",
      "Epoch 126/400\n",
      "4/4 [==============================] - 0s 7ms/step - loss: 0.2247 - accuracy: 0.9543\n",
      "Epoch 127/400\n",
      "4/4 [==============================] - 0s 6ms/step - loss: 0.2183 - accuracy: 0.9581\n",
      "Epoch 128/400\n",
      "4/4 [==============================] - 0s 7ms/step - loss: 0.2060 - accuracy: 0.9622\n",
      "Epoch 129/400\n",
      "4/4 [==============================] - 0s 6ms/step - loss: 0.1945 - accuracy: 0.9680\n",
      "Epoch 130/400\n",
      "4/4 [==============================] - 0s 7ms/step - loss: 0.1912 - accuracy: 0.9697\n",
      "Epoch 131/400\n",
      "4/4 [==============================] - 0s 7ms/step - loss: 0.1928 - accuracy: 0.9676\n",
      "Epoch 132/400\n",
      "4/4 [==============================] - 0s 8ms/step - loss: 0.1881 - accuracy: 0.9698\n",
      "Epoch 133/400\n",
      "4/4 [==============================] - 0s 7ms/step - loss: 0.1899 - accuracy: 0.9696\n",
      "Epoch 134/400\n",
      "4/4 [==============================] - 0s 7ms/step - loss: 0.1886 - accuracy: 0.9695\n",
      "Epoch 135/400\n",
      "4/4 [==============================] - 0s 7ms/step - loss: 0.1858 - accuracy: 0.9717\n",
      "Epoch 136/400\n",
      "4/4 [==============================] - 0s 7ms/step - loss: 0.1887 - accuracy: 0.9677\n",
      "Epoch 137/400\n",
      "4/4 [==============================] - 0s 8ms/step - loss: 0.1866 - accuracy: 0.9700\n",
      "Epoch 138/400\n",
      "4/4 [==============================] - 0s 8ms/step - loss: 0.1851 - accuracy: 0.9713\n",
      "Epoch 139/400\n",
      "4/4 [==============================] - 0s 7ms/step - loss: 0.1886 - accuracy: 0.9676\n",
      "Epoch 140/400\n",
      "4/4 [==============================] - 0s 7ms/step - loss: 0.2046 - accuracy: 0.9607\n",
      "Epoch 141/400\n",
      "4/4 [==============================] - 0s 7ms/step - loss: 0.2263 - accuracy: 0.9552\n",
      "Epoch 142/400\n",
      "4/4 [==============================] - 0s 8ms/step - loss: 0.2071 - accuracy: 0.9574\n",
      "Epoch 143/400\n",
      "4/4 [==============================] - 0s 7ms/step - loss: 0.2031 - accuracy: 0.9610\n",
      "Epoch 144/400\n",
      "4/4 [==============================] - 0s 7ms/step - loss: 0.2033 - accuracy: 0.9601\n",
      "Epoch 145/400\n",
      "4/4 [==============================] - 0s 7ms/step - loss: 0.1886 - accuracy: 0.9683\n",
      "Epoch 146/400\n",
      "4/4 [==============================] - 0s 7ms/step - loss: 0.1885 - accuracy: 0.9671\n",
      "Epoch 147/400\n",
      "4/4 [==============================] - 0s 7ms/step - loss: 0.1885 - accuracy: 0.9673\n",
      "Epoch 148/400\n",
      "4/4 [==============================] - 0s 7ms/step - loss: 0.1867 - accuracy: 0.9680\n",
      "Epoch 149/400\n",
      "4/4 [==============================] - 0s 7ms/step - loss: 0.1853 - accuracy: 0.9685\n",
      "Epoch 150/400\n",
      "4/4 [==============================] - 0s 6ms/step - loss: 0.1843 - accuracy: 0.9684\n",
      "Epoch 151/400\n",
      "4/4 [==============================] - 0s 7ms/step - loss: 0.1914 - accuracy: 0.9664\n",
      "Epoch 152/400\n",
      "4/4 [==============================] - 0s 9ms/step - loss: 0.2034 - accuracy: 0.9581\n",
      "Epoch 153/400\n",
      "4/4 [==============================] - 0s 7ms/step - loss: 0.2009 - accuracy: 0.9605\n",
      "Epoch 154/400\n",
      "4/4 [==============================] - 0s 7ms/step - loss: 0.1996 - accuracy: 0.9622\n",
      "Epoch 155/400\n",
      "4/4 [==============================] - 0s 7ms/step - loss: 0.2072 - accuracy: 0.9572\n",
      "Epoch 156/400\n",
      "4/4 [==============================] - 0s 7ms/step - loss: 0.2006 - accuracy: 0.9587\n",
      "Epoch 157/400\n",
      "4/4 [==============================] - 0s 8ms/step - loss: 0.2014 - accuracy: 0.9618\n",
      "Epoch 158/400\n",
      "4/4 [==============================] - 0s 8ms/step - loss: 0.1964 - accuracy: 0.9605\n",
      "Epoch 159/400\n",
      "4/4 [==============================] - 0s 8ms/step - loss: 0.1859 - accuracy: 0.9674\n",
      "Epoch 160/400\n",
      "4/4 [==============================] - 0s 7ms/step - loss: 0.1890 - accuracy: 0.9638\n",
      "Epoch 161/400\n",
      "4/4 [==============================] - 0s 7ms/step - loss: 0.1758 - accuracy: 0.9702\n",
      "Epoch 162/400\n",
      "4/4 [==============================] - 0s 7ms/step - loss: 0.1843 - accuracy: 0.9662\n",
      "Epoch 163/400\n",
      "4/4 [==============================] - 0s 7ms/step - loss: 0.1712 - accuracy: 0.9737\n",
      "Epoch 164/400\n",
      "4/4 [==============================] - 0s 7ms/step - loss: 0.1700 - accuracy: 0.9729\n",
      "Epoch 165/400\n",
      "4/4 [==============================] - 0s 6ms/step - loss: 0.1754 - accuracy: 0.9731\n",
      "Epoch 166/400\n",
      "4/4 [==============================] - 0s 7ms/step - loss: 0.1733 - accuracy: 0.9726\n",
      "Epoch 167/400\n",
      "4/4 [==============================] - 0s 7ms/step - loss: 0.1731 - accuracy: 0.9736\n",
      "Epoch 168/400\n",
      "4/4 [==============================] - 0s 7ms/step - loss: 0.1691 - accuracy: 0.9729\n",
      "Epoch 169/400\n",
      "4/4 [==============================] - 0s 7ms/step - loss: 0.1704 - accuracy: 0.9717\n",
      "Epoch 170/400\n",
      "4/4 [==============================] - 0s 8ms/step - loss: 0.1655 - accuracy: 0.9736\n",
      "Epoch 171/400\n",
      "4/4 [==============================] - 0s 6ms/step - loss: 0.1611 - accuracy: 0.9756\n",
      "Epoch 172/400\n",
      "4/4 [==============================] - 0s 8ms/step - loss: 0.1697 - accuracy: 0.9709\n",
      "Epoch 173/400\n",
      "4/4 [==============================] - 0s 7ms/step - loss: 0.1696 - accuracy: 0.9726\n",
      "Epoch 174/400\n",
      "4/4 [==============================] - 0s 7ms/step - loss: 0.1645 - accuracy: 0.9752\n",
      "Epoch 175/400\n",
      "4/4 [==============================] - 0s 7ms/step - loss: 0.1718 - accuracy: 0.9711\n",
      "Epoch 176/400\n",
      "4/4 [==============================] - 0s 7ms/step - loss: 0.1774 - accuracy: 0.9667\n",
      "Epoch 177/400\n",
      "4/4 [==============================] - 0s 7ms/step - loss: 0.1737 - accuracy: 0.9696\n",
      "Epoch 178/400\n",
      "4/4 [==============================] - 0s 7ms/step - loss: 0.1690 - accuracy: 0.9704\n",
      "Epoch 179/400\n",
      "4/4 [==============================] - 0s 6ms/step - loss: 0.1821 - accuracy: 0.9646\n",
      "Epoch 180/400\n",
      "4/4 [==============================] - 0s 6ms/step - loss: 0.2096 - accuracy: 0.9543\n",
      "Epoch 181/400\n",
      "4/4 [==============================] - 0s 7ms/step - loss: 0.2074 - accuracy: 0.9543\n",
      "Epoch 182/400\n",
      "4/4 [==============================] - 0s 7ms/step - loss: 0.1909 - accuracy: 0.9635\n",
      "Epoch 183/400\n",
      "4/4 [==============================] - 0s 6ms/step - loss: 0.2217 - accuracy: 0.9520\n",
      "Epoch 184/400\n",
      "4/4 [==============================] - 0s 6ms/step - loss: 0.1992 - accuracy: 0.9593\n",
      "Epoch 185/400\n",
      "4/4 [==============================] - 0s 6ms/step - loss: 0.1922 - accuracy: 0.9624\n",
      "Epoch 186/400\n",
      "4/4 [==============================] - 0s 7ms/step - loss: 0.1859 - accuracy: 0.9624\n",
      "Epoch 187/400\n",
      "4/4 [==============================] - 0s 7ms/step - loss: 0.1835 - accuracy: 0.9656\n",
      "Epoch 188/400\n",
      "4/4 [==============================] - 0s 7ms/step - loss: 0.1793 - accuracy: 0.9669\n",
      "Epoch 189/400\n",
      "4/4 [==============================] - 0s 7ms/step - loss: 0.1729 - accuracy: 0.9694\n",
      "Epoch 190/400\n",
      "4/4 [==============================] - 0s 7ms/step - loss: 0.1666 - accuracy: 0.9709\n",
      "Epoch 191/400\n",
      "4/4 [==============================] - 0s 7ms/step - loss: 0.1643 - accuracy: 0.9717\n",
      "Epoch 192/400\n",
      "4/4 [==============================] - 0s 7ms/step - loss: 0.1599 - accuracy: 0.9742\n",
      "Epoch 193/400\n",
      "4/4 [==============================] - 0s 7ms/step - loss: 0.1597 - accuracy: 0.9742\n",
      "Epoch 194/400\n",
      "4/4 [==============================] - 0s 6ms/step - loss: 0.1536 - accuracy: 0.9775\n",
      "Epoch 195/400\n",
      "4/4 [==============================] - 0s 7ms/step - loss: 0.1509 - accuracy: 0.9780\n",
      "Epoch 196/400\n",
      "4/4 [==============================] - 0s 7ms/step - loss: 0.1454 - accuracy: 0.9791\n",
      "Epoch 197/400\n",
      "4/4 [==============================] - 0s 7ms/step - loss: 0.1466 - accuracy: 0.9773\n",
      "Epoch 198/400\n",
      "4/4 [==============================] - 0s 7ms/step - loss: 0.1501 - accuracy: 0.9770\n",
      "Epoch 199/400\n",
      "4/4 [==============================] - 0s 7ms/step - loss: 0.1472 - accuracy: 0.9786\n",
      "Epoch 200/400\n",
      "4/4 [==============================] - 0s 7ms/step - loss: 0.1512 - accuracy: 0.9767\n",
      "Epoch 201/400\n",
      "4/4 [==============================] - 0s 7ms/step - loss: 0.1493 - accuracy: 0.9786\n",
      "Epoch 202/400\n",
      "4/4 [==============================] - 0s 6ms/step - loss: 0.1485 - accuracy: 0.9779\n",
      "Epoch 203/400\n",
      "4/4 [==============================] - 0s 7ms/step - loss: 0.1495 - accuracy: 0.9771\n",
      "Epoch 204/400\n",
      "4/4 [==============================] - 0s 6ms/step - loss: 0.1503 - accuracy: 0.9767\n",
      "Epoch 205/400\n",
      "4/4 [==============================] - 0s 7ms/step - loss: 0.1485 - accuracy: 0.9777\n",
      "Epoch 206/400\n",
      "4/4 [==============================] - 0s 7ms/step - loss: 0.1414 - accuracy: 0.9797\n",
      "Epoch 207/400\n",
      "4/4 [==============================] - 0s 7ms/step - loss: 0.1463 - accuracy: 0.9789\n",
      "Epoch 208/400\n",
      "4/4 [==============================] - 0s 6ms/step - loss: 0.1451 - accuracy: 0.9778\n",
      "Epoch 209/400\n",
      "4/4 [==============================] - 0s 7ms/step - loss: 0.1461 - accuracy: 0.9778\n",
      "Epoch 210/400\n",
      "4/4 [==============================] - 0s 7ms/step - loss: 0.1456 - accuracy: 0.9777\n",
      "Epoch 211/400\n",
      "4/4 [==============================] - 0s 7ms/step - loss: 0.1372 - accuracy: 0.9811\n",
      "Epoch 212/400\n",
      "4/4 [==============================] - 0s 7ms/step - loss: 0.1425 - accuracy: 0.9803\n",
      "Epoch 213/400\n",
      "4/4 [==============================] - 0s 7ms/step - loss: 0.1408 - accuracy: 0.9794\n",
      "Epoch 214/400\n",
      "4/4 [==============================] - 0s 7ms/step - loss: 0.1445 - accuracy: 0.9776\n",
      "Epoch 215/400\n",
      "4/4 [==============================] - 0s 7ms/step - loss: 0.1465 - accuracy: 0.9762\n",
      "Epoch 216/400\n",
      "4/4 [==============================] - 0s 7ms/step - loss: 0.1391 - accuracy: 0.9797\n",
      "Epoch 217/400\n",
      "4/4 [==============================] - 0s 7ms/step - loss: 0.1423 - accuracy: 0.9793\n",
      "Epoch 218/400\n",
      "4/4 [==============================] - 0s 6ms/step - loss: 0.1430 - accuracy: 0.9782\n",
      "Epoch 219/400\n",
      "4/4 [==============================] - 0s 7ms/step - loss: 0.1381 - accuracy: 0.9802\n",
      "Epoch 220/400\n",
      "4/4 [==============================] - 0s 7ms/step - loss: 0.1434 - accuracy: 0.9759\n",
      "Epoch 221/400\n",
      "4/4 [==============================] - 0s 7ms/step - loss: 0.1393 - accuracy: 0.9796\n",
      "Epoch 222/400\n",
      "4/4 [==============================] - 0s 8ms/step - loss: 0.1354 - accuracy: 0.9809\n",
      "Epoch 223/400\n",
      "4/4 [==============================] - 0s 7ms/step - loss: 0.1369 - accuracy: 0.9791\n",
      "Epoch 224/400\n",
      "4/4 [==============================] - 0s 7ms/step - loss: 0.1362 - accuracy: 0.9808\n",
      "Epoch 225/400\n",
      "4/4 [==============================] - 0s 7ms/step - loss: 0.1378 - accuracy: 0.9790\n",
      "Epoch 226/400\n",
      "4/4 [==============================] - 0s 7ms/step - loss: 0.1423 - accuracy: 0.9776\n",
      "Epoch 227/400\n",
      "4/4 [==============================] - 0s 7ms/step - loss: 0.1369 - accuracy: 0.9790\n",
      "Epoch 228/400\n",
      "4/4 [==============================] - 0s 7ms/step - loss: 0.1344 - accuracy: 0.9802\n",
      "Epoch 229/400\n",
      "4/4 [==============================] - 0s 6ms/step - loss: 0.1347 - accuracy: 0.9801\n",
      "Epoch 230/400\n",
      "4/4 [==============================] - 0s 6ms/step - loss: 0.1303 - accuracy: 0.9810\n",
      "Epoch 231/400\n",
      "4/4 [==============================] - 0s 6ms/step - loss: 0.1327 - accuracy: 0.9807\n",
      "Epoch 232/400\n",
      "4/4 [==============================] - 0s 7ms/step - loss: 0.1314 - accuracy: 0.9816\n",
      "Epoch 233/400\n",
      "4/4 [==============================] - 0s 6ms/step - loss: 0.1302 - accuracy: 0.9822\n",
      "Epoch 234/400\n",
      "4/4 [==============================] - 0s 7ms/step - loss: 0.1334 - accuracy: 0.9801\n",
      "Epoch 235/400\n",
      "4/4 [==============================] - 0s 7ms/step - loss: 0.1351 - accuracy: 0.9788\n",
      "Epoch 236/400\n",
      "4/4 [==============================] - 0s 7ms/step - loss: 0.1347 - accuracy: 0.9794\n",
      "Epoch 237/400\n",
      "4/4 [==============================] - 0s 7ms/step - loss: 0.1350 - accuracy: 0.9792\n",
      "Epoch 238/400\n",
      "4/4 [==============================] - 0s 7ms/step - loss: 0.1403 - accuracy: 0.9762\n",
      "Epoch 239/400\n",
      "4/4 [==============================] - 0s 7ms/step - loss: 0.1553 - accuracy: 0.9712\n",
      "Epoch 240/400\n",
      "4/4 [==============================] - 0s 7ms/step - loss: 0.1925 - accuracy: 0.9535\n",
      "Epoch 241/400\n",
      "4/4 [==============================] - 0s 7ms/step - loss: 0.2179 - accuracy: 0.9475\n",
      "Epoch 242/400\n",
      "4/4 [==============================] - 0s 7ms/step - loss: 0.2210 - accuracy: 0.9456\n",
      "Epoch 243/400\n",
      "4/4 [==============================] - 0s 7ms/step - loss: 0.2274 - accuracy: 0.9463\n",
      "Epoch 244/400\n",
      "4/4 [==============================] - 0s 7ms/step - loss: 0.2213 - accuracy: 0.9429\n",
      "Epoch 245/400\n",
      "4/4 [==============================] - 0s 7ms/step - loss: 0.2037 - accuracy: 0.9534\n",
      "Epoch 246/400\n",
      "4/4 [==============================] - 0s 7ms/step - loss: 0.2182 - accuracy: 0.9456\n",
      "Epoch 247/400\n",
      "4/4 [==============================] - 0s 7ms/step - loss: 0.2256 - accuracy: 0.9456\n",
      "Epoch 248/400\n",
      "4/4 [==============================] - 0s 7ms/step - loss: 0.1894 - accuracy: 0.9587\n",
      "Epoch 249/400\n",
      "4/4 [==============================] - 0s 7ms/step - loss: 0.1856 - accuracy: 0.9619\n",
      "Epoch 250/400\n",
      "4/4 [==============================] - 0s 6ms/step - loss: 0.1775 - accuracy: 0.9619\n",
      "Epoch 251/400\n",
      "4/4 [==============================] - 0s 7ms/step - loss: 0.1640 - accuracy: 0.9700\n",
      "Epoch 252/400\n",
      "4/4 [==============================] - 0s 7ms/step - loss: 0.1765 - accuracy: 0.9652\n",
      "Epoch 253/400\n",
      "4/4 [==============================] - 0s 7ms/step - loss: 0.1614 - accuracy: 0.9716\n",
      "Epoch 254/400\n",
      "4/4 [==============================] - 0s 7ms/step - loss: 0.1640 - accuracy: 0.9696\n",
      "Epoch 255/400\n",
      "4/4 [==============================] - 0s 7ms/step - loss: 0.1561 - accuracy: 0.9721\n",
      "Epoch 256/400\n",
      "4/4 [==============================] - 0s 6ms/step - loss: 0.1583 - accuracy: 0.9706\n",
      "Epoch 257/400\n",
      "4/4 [==============================] - 0s 7ms/step - loss: 0.1553 - accuracy: 0.9700\n",
      "Epoch 258/400\n",
      "4/4 [==============================] - 0s 7ms/step - loss: 0.1518 - accuracy: 0.9736\n",
      "Epoch 259/400\n",
      "4/4 [==============================] - 0s 6ms/step - loss: 0.1530 - accuracy: 0.9726\n",
      "Epoch 260/400\n",
      "4/4 [==============================] - 0s 8ms/step - loss: 0.1485 - accuracy: 0.9735\n",
      "Epoch 261/400\n",
      "4/4 [==============================] - 0s 8ms/step - loss: 0.1473 - accuracy: 0.9749\n",
      "Epoch 262/400\n",
      "4/4 [==============================] - 0s 7ms/step - loss: 0.1513 - accuracy: 0.9730\n",
      "Epoch 263/400\n",
      "4/4 [==============================] - 0s 6ms/step - loss: 0.1499 - accuracy: 0.9735\n",
      "Epoch 264/400\n",
      "4/4 [==============================] - 0s 7ms/step - loss: 0.1524 - accuracy: 0.9713\n",
      "Epoch 265/400\n",
      "4/4 [==============================] - 0s 7ms/step - loss: 0.1441 - accuracy: 0.9759\n",
      "Epoch 266/400\n",
      "4/4 [==============================] - 0s 7ms/step - loss: 0.1361 - accuracy: 0.9774\n",
      "Epoch 267/400\n",
      "4/4 [==============================] - 0s 7ms/step - loss: 0.1321 - accuracy: 0.9796\n",
      "Epoch 268/400\n",
      "4/4 [==============================] - 0s 6ms/step - loss: 0.1315 - accuracy: 0.9810\n",
      "Epoch 269/400\n",
      "4/4 [==============================] - 0s 7ms/step - loss: 0.1293 - accuracy: 0.9808\n",
      "Epoch 270/400\n",
      "4/4 [==============================] - 0s 8ms/step - loss: 0.1317 - accuracy: 0.9803\n",
      "Epoch 271/400\n",
      "4/4 [==============================] - 0s 8ms/step - loss: 0.1282 - accuracy: 0.9806\n",
      "Epoch 272/400\n",
      "4/4 [==============================] - 0s 7ms/step - loss: 0.1274 - accuracy: 0.9813\n",
      "Epoch 273/400\n",
      "4/4 [==============================] - 0s 7ms/step - loss: 0.1252 - accuracy: 0.9822\n",
      "Epoch 274/400\n",
      "4/4 [==============================] - 0s 7ms/step - loss: 0.1273 - accuracy: 0.9810\n",
      "Epoch 275/400\n",
      "4/4 [==============================] - 0s 8ms/step - loss: 0.1245 - accuracy: 0.9816\n",
      "Epoch 276/400\n",
      "4/4 [==============================] - 0s 8ms/step - loss: 0.1270 - accuracy: 0.9810\n",
      "Epoch 277/400\n",
      "4/4 [==============================] - 0s 7ms/step - loss: 0.1260 - accuracy: 0.9802\n",
      "Epoch 278/400\n",
      "4/4 [==============================] - 0s 7ms/step - loss: 0.1279 - accuracy: 0.9801\n",
      "Epoch 279/400\n",
      "4/4 [==============================] - 0s 6ms/step - loss: 0.1284 - accuracy: 0.9798\n",
      "Epoch 280/400\n",
      "4/4 [==============================] - 0s 7ms/step - loss: 0.1301 - accuracy: 0.9798\n",
      "Epoch 281/400\n",
      "4/4 [==============================] - 0s 7ms/step - loss: 0.1248 - accuracy: 0.9807\n",
      "Epoch 282/400\n",
      "4/4 [==============================] - 0s 7ms/step - loss: 0.1282 - accuracy: 0.9798\n",
      "Epoch 283/400\n",
      "4/4 [==============================] - 0s 7ms/step - loss: 0.1292 - accuracy: 0.9790\n",
      "Epoch 284/400\n",
      "4/4 [==============================] - 0s 7ms/step - loss: 0.1308 - accuracy: 0.9782\n",
      "Epoch 285/400\n",
      "4/4 [==============================] - 0s 7ms/step - loss: 0.1304 - accuracy: 0.9779\n",
      "Epoch 286/400\n",
      "4/4 [==============================] - 0s 7ms/step - loss: 0.1339 - accuracy: 0.9764\n",
      "Epoch 287/400\n",
      "4/4 [==============================] - 0s 6ms/step - loss: 0.1309 - accuracy: 0.9778\n",
      "Epoch 288/400\n",
      "4/4 [==============================] - 0s 6ms/step - loss: 0.1432 - accuracy: 0.9728\n",
      "Epoch 289/400\n",
      "4/4 [==============================] - 0s 7ms/step - loss: 0.1400 - accuracy: 0.9747\n",
      "Epoch 290/400\n",
      "4/4 [==============================] - 0s 7ms/step - loss: 0.1427 - accuracy: 0.9746\n",
      "Epoch 291/400\n",
      "4/4 [==============================] - 0s 6ms/step - loss: 0.1550 - accuracy: 0.9675\n",
      "Epoch 292/400\n",
      "4/4 [==============================] - 0s 6ms/step - loss: 0.1932 - accuracy: 0.9530\n",
      "Epoch 293/400\n",
      "4/4 [==============================] - 0s 7ms/step - loss: 0.2520 - accuracy: 0.9348\n",
      "Epoch 294/400\n",
      "4/4 [==============================] - 0s 8ms/step - loss: 0.2143 - accuracy: 0.9442\n",
      "Epoch 295/400\n",
      "4/4 [==============================] - 0s 6ms/step - loss: 0.2232 - accuracy: 0.9428\n",
      "Epoch 296/400\n",
      "4/4 [==============================] - 0s 7ms/step - loss: 0.2110 - accuracy: 0.9479\n",
      "Epoch 297/400\n",
      "4/4 [==============================] - 0s 7ms/step - loss: 0.1918 - accuracy: 0.9573\n",
      "Epoch 298/400\n",
      "4/4 [==============================] - 0s 7ms/step - loss: 0.1852 - accuracy: 0.9601\n",
      "Epoch 299/400\n",
      "4/4 [==============================] - 0s 7ms/step - loss: 0.1637 - accuracy: 0.9675\n",
      "Epoch 300/400\n",
      "4/4 [==============================] - 0s 7ms/step - loss: 0.1618 - accuracy: 0.9685\n",
      "Epoch 301/400\n",
      "4/4 [==============================] - 0s 6ms/step - loss: 0.1580 - accuracy: 0.9686\n",
      "Epoch 302/400\n",
      "4/4 [==============================] - 0s 7ms/step - loss: 0.1636 - accuracy: 0.9665\n",
      "Epoch 303/400\n",
      "4/4 [==============================] - 0s 7ms/step - loss: 0.1614 - accuracy: 0.9680\n",
      "Epoch 304/400\n",
      "4/4 [==============================] - 0s 8ms/step - loss: 0.1549 - accuracy: 0.9709\n",
      "Epoch 305/400\n",
      "4/4 [==============================] - 0s 7ms/step - loss: 0.1486 - accuracy: 0.9715\n",
      "Epoch 306/400\n",
      "4/4 [==============================] - 0s 6ms/step - loss: 0.1546 - accuracy: 0.9697\n",
      "Epoch 307/400\n",
      "4/4 [==============================] - 0s 6ms/step - loss: 0.1513 - accuracy: 0.9701\n",
      "Epoch 308/400\n",
      "4/4 [==============================] - 0s 7ms/step - loss: 0.1548 - accuracy: 0.9683\n",
      "Epoch 309/400\n",
      "4/4 [==============================] - 0s 6ms/step - loss: 0.1562 - accuracy: 0.9689\n",
      "Epoch 310/400\n",
      "4/4 [==============================] - 0s 7ms/step - loss: 0.1578 - accuracy: 0.9690\n",
      "Epoch 311/400\n",
      "4/4 [==============================] - 0s 6ms/step - loss: 0.1573 - accuracy: 0.9684\n",
      "Epoch 312/400\n",
      "4/4 [==============================] - 0s 6ms/step - loss: 0.1633 - accuracy: 0.9651\n",
      "Epoch 313/400\n",
      "4/4 [==============================] - 0s 7ms/step - loss: 0.1591 - accuracy: 0.9671\n",
      "Epoch 314/400\n",
      "4/4 [==============================] - 0s 7ms/step - loss: 0.1603 - accuracy: 0.9651\n",
      "Epoch 315/400\n",
      "4/4 [==============================] - 0s 7ms/step - loss: 0.1638 - accuracy: 0.9668\n",
      "Epoch 316/400\n",
      "4/4 [==============================] - 0s 7ms/step - loss: 0.1615 - accuracy: 0.9650\n",
      "Epoch 317/400\n",
      "4/4 [==============================] - 0s 7ms/step - loss: 0.1600 - accuracy: 0.9668\n",
      "Epoch 318/400\n",
      "4/4 [==============================] - 0s 7ms/step - loss: 0.1625 - accuracy: 0.9666\n",
      "Epoch 319/400\n",
      "4/4 [==============================] - 0s 7ms/step - loss: 0.1579 - accuracy: 0.9682\n",
      "Epoch 320/400\n",
      "4/4 [==============================] - 0s 7ms/step - loss: 0.1666 - accuracy: 0.9660\n",
      "Epoch 321/400\n",
      "4/4 [==============================] - 0s 7ms/step - loss: 0.1673 - accuracy: 0.9639\n",
      "Epoch 322/400\n",
      "4/4 [==============================] - 0s 7ms/step - loss: 0.1672 - accuracy: 0.9612\n",
      "Epoch 323/400\n",
      "4/4 [==============================] - 0s 8ms/step - loss: 0.1727 - accuracy: 0.9600\n",
      "Epoch 324/400\n",
      "4/4 [==============================] - 0s 6ms/step - loss: 0.1710 - accuracy: 0.9618\n",
      "Epoch 325/400\n",
      "4/4 [==============================] - 0s 7ms/step - loss: 0.1705 - accuracy: 0.9617\n",
      "Epoch 326/400\n",
      "4/4 [==============================] - 0s 7ms/step - loss: 0.1669 - accuracy: 0.9633\n",
      "Epoch 327/400\n",
      "4/4 [==============================] - 0s 6ms/step - loss: 0.1557 - accuracy: 0.9675\n",
      "Epoch 328/400\n",
      "4/4 [==============================] - 0s 7ms/step - loss: 0.1458 - accuracy: 0.9732\n",
      "Epoch 329/400\n",
      "4/4 [==============================] - 0s 7ms/step - loss: 0.1373 - accuracy: 0.9755\n",
      "Epoch 330/400\n",
      "4/4 [==============================] - 0s 7ms/step - loss: 0.1395 - accuracy: 0.9744\n",
      "Epoch 331/400\n",
      "4/4 [==============================] - 0s 7ms/step - loss: 0.1359 - accuracy: 0.9775\n",
      "Epoch 332/400\n",
      "4/4 [==============================] - 0s 7ms/step - loss: 0.1338 - accuracy: 0.9759\n",
      "Epoch 333/400\n",
      "4/4 [==============================] - 0s 7ms/step - loss: 0.1320 - accuracy: 0.9767\n",
      "Epoch 334/400\n",
      "4/4 [==============================] - 0s 6ms/step - loss: 0.1311 - accuracy: 0.9780\n",
      "Epoch 335/400\n",
      "4/4 [==============================] - 0s 7ms/step - loss: 0.1247 - accuracy: 0.9799\n",
      "Epoch 336/400\n",
      "4/4 [==============================] - 0s 7ms/step - loss: 0.1236 - accuracy: 0.9802\n",
      "Epoch 337/400\n",
      "4/4 [==============================] - 0s 6ms/step - loss: 0.1210 - accuracy: 0.9813\n",
      "Epoch 338/400\n",
      "4/4 [==============================] - 0s 6ms/step - loss: 0.1224 - accuracy: 0.9798\n",
      "Epoch 339/400\n",
      "4/4 [==============================] - 0s 9ms/step - loss: 0.1200 - accuracy: 0.9819\n",
      "Epoch 340/400\n",
      "4/4 [==============================] - 0s 6ms/step - loss: 0.1222 - accuracy: 0.9804\n",
      "Epoch 341/400\n",
      "4/4 [==============================] - 0s 7ms/step - loss: 0.1204 - accuracy: 0.9802\n",
      "Epoch 342/400\n",
      "4/4 [==============================] - 0s 8ms/step - loss: 0.1195 - accuracy: 0.9817\n",
      "Epoch 343/400\n",
      "4/4 [==============================] - 0s 7ms/step - loss: 0.1174 - accuracy: 0.9813\n",
      "Epoch 344/400\n",
      "4/4 [==============================] - 0s 8ms/step - loss: 0.1165 - accuracy: 0.9827\n",
      "Epoch 345/400\n",
      "4/4 [==============================] - 0s 7ms/step - loss: 0.1161 - accuracy: 0.9835\n",
      "Epoch 346/400\n",
      "4/4 [==============================] - 0s 7ms/step - loss: 0.1186 - accuracy: 0.9800\n",
      "Epoch 347/400\n",
      "4/4 [==============================] - 0s 8ms/step - loss: 0.1180 - accuracy: 0.9814\n",
      "Epoch 348/400\n",
      "4/4 [==============================] - 0s 7ms/step - loss: 0.1177 - accuracy: 0.9824\n",
      "Epoch 349/400\n",
      "4/4 [==============================] - 0s 7ms/step - loss: 0.1175 - accuracy: 0.9810\n",
      "Epoch 350/400\n",
      "4/4 [==============================] - 0s 8ms/step - loss: 0.1222 - accuracy: 0.9801\n",
      "Epoch 351/400\n",
      "4/4 [==============================] - 0s 7ms/step - loss: 0.1241 - accuracy: 0.9791\n",
      "Epoch 352/400\n",
      "4/4 [==============================] - 0s 7ms/step - loss: 0.1199 - accuracy: 0.9809\n",
      "Epoch 353/400\n",
      "4/4 [==============================] - 0s 7ms/step - loss: 0.1205 - accuracy: 0.9798\n",
      "Epoch 354/400\n",
      "4/4 [==============================] - 0s 7ms/step - loss: 0.1191 - accuracy: 0.9809\n",
      "Epoch 355/400\n",
      "4/4 [==============================] - 0s 7ms/step - loss: 0.1198 - accuracy: 0.9797\n",
      "Epoch 356/400\n",
      "4/4 [==============================] - 0s 6ms/step - loss: 0.1185 - accuracy: 0.9803\n",
      "Epoch 357/400\n",
      "4/4 [==============================] - 0s 7ms/step - loss: 0.1183 - accuracy: 0.9808\n",
      "Epoch 358/400\n",
      "4/4 [==============================] - 0s 6ms/step - loss: 0.1182 - accuracy: 0.9817\n",
      "Epoch 359/400\n",
      "4/4 [==============================] - 0s 8ms/step - loss: 0.1196 - accuracy: 0.9802\n",
      "Epoch 360/400\n",
      "4/4 [==============================] - 0s 7ms/step - loss: 0.1199 - accuracy: 0.9807\n",
      "Epoch 361/400\n",
      "4/4 [==============================] - 0s 7ms/step - loss: 0.1254 - accuracy: 0.9776\n",
      "Epoch 362/400\n",
      "4/4 [==============================] - 0s 7ms/step - loss: 0.1283 - accuracy: 0.9758\n",
      "Epoch 363/400\n",
      "4/4 [==============================] - 0s 7ms/step - loss: 0.1385 - accuracy: 0.9723\n",
      "Epoch 364/400\n",
      "4/4 [==============================] - 0s 6ms/step - loss: 0.1709 - accuracy: 0.9568\n",
      "Epoch 365/400\n",
      "4/4 [==============================] - 0s 6ms/step - loss: 0.1496 - accuracy: 0.9670\n",
      "Epoch 366/400\n",
      "4/4 [==============================] - 0s 7ms/step - loss: 0.1481 - accuracy: 0.9709\n",
      "Epoch 367/400\n",
      "4/4 [==============================] - 0s 6ms/step - loss: 0.1684 - accuracy: 0.9605\n",
      "Epoch 368/400\n",
      "4/4 [==============================] - 0s 10ms/step - loss: 0.1651 - accuracy: 0.9639\n",
      "Epoch 369/400\n",
      "4/4 [==============================] - 0s 8ms/step - loss: 0.1480 - accuracy: 0.9715\n",
      "Epoch 370/400\n",
      "4/4 [==============================] - 0s 7ms/step - loss: 0.1446 - accuracy: 0.9685\n",
      "Epoch 371/400\n",
      "4/4 [==============================] - 0s 7ms/step - loss: 0.1333 - accuracy: 0.9754\n",
      "Epoch 372/400\n",
      "4/4 [==============================] - 0s 7ms/step - loss: 0.1295 - accuracy: 0.9768\n",
      "Epoch 373/400\n",
      "4/4 [==============================] - 0s 7ms/step - loss: 0.1235 - accuracy: 0.9796\n",
      "Epoch 374/400\n",
      "4/4 [==============================] - 0s 8ms/step - loss: 0.1247 - accuracy: 0.9778\n",
      "Epoch 375/400\n",
      "4/4 [==============================] - 0s 6ms/step - loss: 0.1208 - accuracy: 0.9798\n",
      "Epoch 376/400\n",
      "4/4 [==============================] - 0s 7ms/step - loss: 0.1189 - accuracy: 0.9801\n",
      "Epoch 377/400\n",
      "4/4 [==============================] - 0s 7ms/step - loss: 0.1175 - accuracy: 0.9809\n",
      "Epoch 378/400\n",
      "4/4 [==============================] - 0s 8ms/step - loss: 0.1170 - accuracy: 0.9818\n",
      "Epoch 379/400\n",
      "4/4 [==============================] - 0s 7ms/step - loss: 0.1156 - accuracy: 0.9814\n",
      "Epoch 380/400\n",
      "4/4 [==============================] - 0s 7ms/step - loss: 0.1154 - accuracy: 0.9808\n",
      "Epoch 381/400\n",
      "4/4 [==============================] - 0s 7ms/step - loss: 0.1136 - accuracy: 0.9821\n",
      "Epoch 382/400\n",
      "4/4 [==============================] - 0s 7ms/step - loss: 0.1135 - accuracy: 0.9822\n",
      "Epoch 383/400\n",
      "4/4 [==============================] - 0s 7ms/step - loss: 0.1117 - accuracy: 0.9833\n",
      "Epoch 384/400\n",
      "4/4 [==============================] - 0s 8ms/step - loss: 0.1095 - accuracy: 0.9817\n",
      "Epoch 385/400\n",
      "4/4 [==============================] - 0s 8ms/step - loss: 0.1106 - accuracy: 0.9830\n",
      "Epoch 386/400\n",
      "4/4 [==============================] - 0s 7ms/step - loss: 0.1109 - accuracy: 0.9820\n",
      "Epoch 387/400\n",
      "4/4 [==============================] - 0s 7ms/step - loss: 0.1117 - accuracy: 0.9813\n",
      "Epoch 388/400\n",
      "4/4 [==============================] - 0s 7ms/step - loss: 0.1099 - accuracy: 0.9825\n",
      "Epoch 389/400\n",
      "4/4 [==============================] - 0s 7ms/step - loss: 0.1104 - accuracy: 0.9816\n",
      "Epoch 390/400\n",
      "4/4 [==============================] - 0s 7ms/step - loss: 0.1079 - accuracy: 0.9829\n",
      "Epoch 391/400\n",
      "4/4 [==============================] - 0s 6ms/step - loss: 0.1096 - accuracy: 0.9822\n",
      "Epoch 392/400\n",
      "4/4 [==============================] - 0s 7ms/step - loss: 0.1085 - accuracy: 0.9816\n",
      "Epoch 393/400\n",
      "4/4 [==============================] - 0s 8ms/step - loss: 0.1084 - accuracy: 0.9825\n",
      "Epoch 394/400\n",
      "4/4 [==============================] - 0s 7ms/step - loss: 0.1092 - accuracy: 0.9827\n",
      "Epoch 395/400\n",
      "4/4 [==============================] - 0s 7ms/step - loss: 0.1110 - accuracy: 0.9810\n",
      "Epoch 396/400\n",
      "4/4 [==============================] - 0s 6ms/step - loss: 0.1093 - accuracy: 0.9819\n",
      "Epoch 397/400\n",
      "4/4 [==============================] - 0s 7ms/step - loss: 0.1064 - accuracy: 0.9835\n",
      "Epoch 398/400\n",
      "4/4 [==============================] - 0s 7ms/step - loss: 0.1078 - accuracy: 0.9822\n",
      "Epoch 399/400\n",
      "4/4 [==============================] - 0s 7ms/step - loss: 0.1056 - accuracy: 0.9822\n",
      "Epoch 400/400\n",
      "4/4 [==============================] - 0s 7ms/step - loss: 0.1058 - accuracy: 0.9823\n"
     ]
    }
   ],
   "source": [
    "from tensorflow.keras.models import Sequential\r\n",
    "from tensorflow.keras.layers import Dense, Dropout\r\n",
    "from tensorflow.keras.regularizers import l2\r\n",
    "\r\n",
    "\r\n",
    "modelnn = Sequential([\r\n",
    "        Dense(512, activation='relu', kernel_regularizer=l2(1e-3), input_shape=(124,)),\r\n",
    "        Dense(512, activation='relu', kernel_regularizer=l2(1e-3)),\r\n",
    "        Dropout(0.5),\r\n",
    "        Dense(256, activation='relu', kernel_regularizer=l2(1e-3)),\r\n",
    "        Dropout(0.5),\r\n",
    "        Dense(32, activation='relu', kernel_regularizer=l2(1e-3)),\r\n",
    "        Dense(2, activation='sigmoid')\r\n",
    "    ])\r\n",
    "\r\n",
    "from sklearn.metrics import f1_score\r\n",
    "#tf.keras.optimizers.SGD(learning_rate=0.0001)\r\n",
    "modelnn.compile(loss='sparse_categorical_crossentropy', optimizer='adam', metrics=['accuracy'])\r\n",
    "#modelnn.summary()\r\n",
    "from tensorflow.keras.callbacks import EarlyStopping\r\n",
    "early_stopping = EarlyStopping(patience=100, monitor='loss')\r\n",
    "train_data = tf.data.Dataset.from_tensor_slices((train_descriptors_PCA, train_crystals['is_centrosymmetric'].astype(np.int8)))\r\n",
    "train_data = train_data.batch(4096)\r\n",
    "train_data = train_data.prefetch(tf.data.experimental.AUTOTUNE)\r\n",
    "\r\n",
    "#val_data = tf.data.Dataset.from_tensor_slices((X_valPCA, y_val['is_centrosymmetric'].astype(np.int8)))\r\n",
    "#val_data = val_data.batch(4096)\r\n",
    "'''\r\n",
    "train_data.element_spec\r\n",
    "train_data = tf.data.Dataset.from_tensor_slices((X_train, y_train['is_centrosymmetric'].astype(np.int8)))\r\n",
    "train_data = train_data.batch(128)\r\n",
    "train_data = train_data.prefetch(tf.data.experimental.AUTOTUNE)\r\n",
    "\r\n",
    "val_data = tf.data.Dataset.from_tensor_slices((X_val, y_val['is_centrosymmetric'].astype(np.int8)))\r\n",
    "val_data = val_data.batch(128)\r\n",
    ", callbacks=[early_stopping]\r\n",
    "\r\n",
    "'''\r\n",
    "train_data.element_spec\r\n",
    "history = modelnn.fit(train_data, epochs=400, callbacks=[early_stopping])\r\n"
   ]
  },
  {
   "cell_type": "markdown",
   "metadata": {},
   "source": [
    "#### Task 2 f1=0.69"
   ]
  },
  {
   "cell_type": "code",
   "execution_count": 277,
   "metadata": {},
   "outputs": [],
   "source": [
    "from tensorflow.keras.models import Sequential\r\n",
    "from tensorflow.keras.layers import Dense, Dropout\r\n",
    "from tensorflow.keras.regularizers import l2\r\n",
    "\r\n",
    "\r\n",
    "modelnn = Sequential([\r\n",
    "        Dense(512, activation='relu', kernel_regularizer=l2(1e-3), input_shape=(123,)),\r\n",
    "        Dense(512, activation='relu', kernel_regularizer=l2(1e-3)),\r\n",
    "        Dropout(0.5),\r\n",
    "        Dense(256, activation='relu', kernel_regularizer=l2(1e-3)),\r\n",
    "        Dropout(0.5),\r\n",
    "        Dense(32, activation='relu', kernel_regularizer=l2(1e-3)),\r\n",
    "        Dense(2, activation='sigmoid')\r\n",
    "    ])"
   ]
  },
  {
   "cell_type": "code",
   "execution_count": 278,
   "metadata": {},
   "outputs": [],
   "source": [
    "from sklearn.metrics import f1_score"
   ]
  },
  {
   "cell_type": "code",
   "execution_count": 279,
   "metadata": {},
   "outputs": [
    {
     "data": {
      "text/plain": "<tensorflow.python.keras.optimizer_v2.gradient_descent.SGD at 0x2ae9a383308>"
     },
     "execution_count": 279,
     "metadata": {},
     "output_type": "execute_result"
    }
   ],
   "source": [
    "tf.keras.optimizers.SGD(learning_rate=0.0001)"
   ]
  },
  {
   "cell_type": "code",
   "execution_count": 280,
   "metadata": {},
   "outputs": [],
   "source": [
    "modelnn.compile(loss='sparse_categorical_crossentropy', optimizer='adam', metrics=['accuracy'])"
   ]
  },
  {
   "cell_type": "code",
   "execution_count": 293,
   "metadata": {},
   "outputs": [],
   "source": [
    "#modelnn.summary()\r\n",
    "from tensorflow.keras.callbacks import EarlyStopping\r\n",
    "early_stopping = EarlyStopping(patience=80, monitor='val_accuracy')"
   ]
  },
  {
   "cell_type": "code",
   "execution_count": 294,
   "metadata": {},
   "outputs": [
    {
     "data": {
      "text/plain": "(TensorSpec(shape=(None, 123), dtype=tf.float64, name=None),\n TensorSpec(shape=(None,), dtype=tf.int8, name=None))"
     },
     "execution_count": 294,
     "metadata": {},
     "output_type": "execute_result"
    }
   ],
   "source": [
    "train_data = tf.data.Dataset.from_tensor_slices((X_trainPCA, y_train['is_centrosymmetric'].astype(np.int8)))\r\n",
    "train_data = train_data.batch(4096)\r\n",
    "train_data = train_data.prefetch(tf.data.experimental.AUTOTUNE)\r\n",
    "\r\n",
    "val_data = tf.data.Dataset.from_tensor_slices((X_valPCA, y_val['is_centrosymmetric'].astype(np.int8)))\r\n",
    "val_data = val_data.batch(4096)\r\n",
    "\r\n",
    "train_data.element_spec"
   ]
  },
  {
   "cell_type": "markdown",
   "metadata": {},
   "source": [
    "train_data = tf.data.Dataset.from_tensor_slices((X_train, y_train['is_centrosymmetric'].astype(np.int8)))\r\n",
    "train_data = train_data.batch(128)\r\n",
    "train_data = train_data.prefetch(tf.data.experimental.AUTOTUNE)\r\n",
    "\r\n",
    "val_data = tf.data.Dataset.from_tensor_slices((X_val, y_val['is_centrosymmetric'].astype(np.int8)))\r\n",
    "val_data = val_data.batch(128)\r\n",
    "\r\n",
    "train_data.element_spec"
   ]
  },
  {
   "cell_type": "code",
   "execution_count": 295,
   "metadata": {},
   "outputs": [
    {
     "name": "stdout",
     "output_type": "stream",
     "text": [
      "Epoch 1/400\n",
      "3/3 [==============================] - 0s 13ms/step - loss: 0.1050 - accuracy: 0.9847 - val_loss: 1.1419 - val_accuracy: 0.8033\n",
      "Epoch 2/400\n",
      "3/3 [==============================] - 0s 19ms/step - loss: 0.1044 - accuracy: 0.9832 - val_loss: 1.1266 - val_accuracy: 0.8071\n",
      "Epoch 3/400\n",
      "3/3 [==============================] - 0s 13ms/step - loss: 0.1053 - accuracy: 0.9830 - val_loss: 1.1349 - val_accuracy: 0.8100\n",
      "Epoch 4/400\n",
      "3/3 [==============================] - 0s 13ms/step - loss: 0.1063 - accuracy: 0.9827 - val_loss: 1.1193 - val_accuracy: 0.8052\n",
      "Epoch 5/400\n",
      "3/3 [==============================] - 0s 13ms/step - loss: 0.1031 - accuracy: 0.9838 - val_loss: 1.1104 - val_accuracy: 0.8030\n",
      "Epoch 6/400\n",
      "3/3 [==============================] - 0s 12ms/step - loss: 0.1062 - accuracy: 0.9833 - val_loss: 1.1242 - val_accuracy: 0.8156\n",
      "Epoch 7/400\n",
      "3/3 [==============================] - 0s 13ms/step - loss: 0.1046 - accuracy: 0.9830 - val_loss: 1.0976 - val_accuracy: 0.8074\n",
      "Epoch 8/400\n",
      "3/3 [==============================] - 0s 12ms/step - loss: 0.1026 - accuracy: 0.9845 - val_loss: 1.1150 - val_accuracy: 0.8030\n",
      "Epoch 9/400\n",
      "3/3 [==============================] - 0s 13ms/step - loss: 0.1039 - accuracy: 0.9837 - val_loss: 1.1299 - val_accuracy: 0.8033\n",
      "Epoch 10/400\n",
      "3/3 [==============================] - 0s 13ms/step - loss: 0.1030 - accuracy: 0.9835 - val_loss: 1.1157 - val_accuracy: 0.8037\n",
      "Epoch 11/400\n",
      "3/3 [==============================] - 0s 14ms/step - loss: 0.1018 - accuracy: 0.9839 - val_loss: 1.1172 - val_accuracy: 0.8126\n",
      "Epoch 12/400\n",
      "3/3 [==============================] - 0s 13ms/step - loss: 0.1021 - accuracy: 0.9834 - val_loss: 1.1271 - val_accuracy: 0.8097\n",
      "Epoch 13/400\n",
      "3/3 [==============================] - 0s 15ms/step - loss: 0.1032 - accuracy: 0.9838 - val_loss: 1.1243 - val_accuracy: 0.8037\n",
      "Epoch 14/400\n",
      "3/3 [==============================] - 0s 11ms/step - loss: 0.1015 - accuracy: 0.9843 - val_loss: 1.1218 - val_accuracy: 0.8130\n",
      "Epoch 15/400\n",
      "3/3 [==============================] - 0s 15ms/step - loss: 0.1019 - accuracy: 0.9839 - val_loss: 1.1036 - val_accuracy: 0.8059\n",
      "Epoch 16/400\n",
      "3/3 [==============================] - 0s 13ms/step - loss: 0.1032 - accuracy: 0.9829 - val_loss: 1.0867 - val_accuracy: 0.8160\n",
      "Epoch 17/400\n",
      "3/3 [==============================] - 0s 14ms/step - loss: 0.1028 - accuracy: 0.9838 - val_loss: 1.0950 - val_accuracy: 0.8026\n",
      "Epoch 18/400\n",
      "3/3 [==============================] - 0s 14ms/step - loss: 0.1018 - accuracy: 0.9839 - val_loss: 1.0974 - val_accuracy: 0.8056\n",
      "Epoch 19/400\n",
      "3/3 [==============================] - 0s 15ms/step - loss: 0.1023 - accuracy: 0.9835 - val_loss: 1.1137 - val_accuracy: 0.8100\n",
      "Epoch 20/400\n",
      "3/3 [==============================] - 0s 13ms/step - loss: 0.1025 - accuracy: 0.9842 - val_loss: 1.1008 - val_accuracy: 0.8063\n",
      "Epoch 21/400\n",
      "3/3 [==============================] - 0s 14ms/step - loss: 0.1025 - accuracy: 0.9822 - val_loss: 1.1003 - val_accuracy: 0.8059\n",
      "Epoch 22/400\n",
      "3/3 [==============================] - 0s 14ms/step - loss: 0.1036 - accuracy: 0.9831 - val_loss: 1.1012 - val_accuracy: 0.8078\n",
      "Epoch 23/400\n",
      "3/3 [==============================] - 0s 13ms/step - loss: 0.1030 - accuracy: 0.9828 - val_loss: 1.0792 - val_accuracy: 0.8134\n",
      "Epoch 24/400\n",
      "3/3 [==============================] - 0s 13ms/step - loss: 0.1014 - accuracy: 0.9846 - val_loss: 1.1136 - val_accuracy: 0.8026\n",
      "Epoch 25/400\n",
      "3/3 [==============================] - 0s 12ms/step - loss: 0.1003 - accuracy: 0.9836 - val_loss: 1.1125 - val_accuracy: 0.8056\n",
      "Epoch 26/400\n",
      "3/3 [==============================] - 0s 13ms/step - loss: 0.1018 - accuracy: 0.9833 - val_loss: 1.1223 - val_accuracy: 0.8015\n",
      "Epoch 27/400\n",
      "3/3 [==============================] - 0s 16ms/step - loss: 0.0999 - accuracy: 0.9842 - val_loss: 1.1256 - val_accuracy: 0.8149\n",
      "Epoch 28/400\n",
      "3/3 [==============================] - 0s 13ms/step - loss: 0.1012 - accuracy: 0.9830 - val_loss: 1.1179 - val_accuracy: 0.8089\n",
      "Epoch 29/400\n",
      "3/3 [==============================] - 0s 14ms/step - loss: 0.0991 - accuracy: 0.9845 - val_loss: 1.1088 - val_accuracy: 0.8052\n",
      "Epoch 30/400\n",
      "3/3 [==============================] - 0s 14ms/step - loss: 0.0997 - accuracy: 0.9849 - val_loss: 1.1190 - val_accuracy: 0.8156\n",
      "Epoch 31/400\n",
      "3/3 [==============================] - 0s 14ms/step - loss: 0.1015 - accuracy: 0.9832 - val_loss: 1.1188 - val_accuracy: 0.8052\n",
      "Epoch 32/400\n",
      "3/3 [==============================] - 0s 13ms/step - loss: 0.0975 - accuracy: 0.9857 - val_loss: 1.1115 - val_accuracy: 0.8078\n",
      "Epoch 33/400\n",
      "3/3 [==============================] - 0s 13ms/step - loss: 0.0989 - accuracy: 0.9825 - val_loss: 1.1272 - val_accuracy: 0.8115\n",
      "Epoch 34/400\n",
      "3/3 [==============================] - 0s 14ms/step - loss: 0.1005 - accuracy: 0.9835 - val_loss: 1.1185 - val_accuracy: 0.8119\n",
      "Epoch 35/400\n",
      "3/3 [==============================] - 0s 13ms/step - loss: 0.0966 - accuracy: 0.9839 - val_loss: 1.1247 - val_accuracy: 0.7963\n",
      "Epoch 36/400\n",
      "3/3 [==============================] - 0s 14ms/step - loss: 0.0992 - accuracy: 0.9837 - val_loss: 1.1228 - val_accuracy: 0.8108\n",
      "Epoch 37/400\n",
      "3/3 [==============================] - 0s 14ms/step - loss: 0.0985 - accuracy: 0.9829 - val_loss: 1.1199 - val_accuracy: 0.8078\n",
      "Epoch 38/400\n",
      "3/3 [==============================] - 0s 14ms/step - loss: 0.0974 - accuracy: 0.9847 - val_loss: 1.1151 - val_accuracy: 0.8004\n",
      "Epoch 39/400\n",
      "3/3 [==============================] - 0s 13ms/step - loss: 0.1000 - accuracy: 0.9833 - val_loss: 1.1124 - val_accuracy: 0.8145\n",
      "Epoch 40/400\n",
      "3/3 [==============================] - 0s 14ms/step - loss: 0.0957 - accuracy: 0.9854 - val_loss: 1.1297 - val_accuracy: 0.8108\n",
      "Epoch 41/400\n",
      "3/3 [==============================] - 0s 16ms/step - loss: 0.0987 - accuracy: 0.9835 - val_loss: 1.1006 - val_accuracy: 0.7993\n",
      "Epoch 42/400\n",
      "3/3 [==============================] - 0s 14ms/step - loss: 0.0977 - accuracy: 0.9849 - val_loss: 1.0988 - val_accuracy: 0.8082\n",
      "Epoch 43/400\n",
      "3/3 [==============================] - 0s 14ms/step - loss: 0.0995 - accuracy: 0.9828 - val_loss: 1.1262 - val_accuracy: 0.8108\n",
      "Epoch 44/400\n",
      "3/3 [==============================] - 0s 13ms/step - loss: 0.1012 - accuracy: 0.9823 - val_loss: 1.1197 - val_accuracy: 0.8007\n",
      "Epoch 45/400\n",
      "3/3 [==============================] - 0s 14ms/step - loss: 0.0992 - accuracy: 0.9835 - val_loss: 1.0880 - val_accuracy: 0.8045\n",
      "Epoch 46/400\n",
      "3/3 [==============================] - 0s 14ms/step - loss: 0.0983 - accuracy: 0.9839 - val_loss: 1.0960 - val_accuracy: 0.8112\n",
      "Epoch 47/400\n",
      "3/3 [==============================] - 0s 13ms/step - loss: 0.0971 - accuracy: 0.9831 - val_loss: 1.1050 - val_accuracy: 0.7993\n",
      "Epoch 48/400\n",
      "3/3 [==============================] - 0s 12ms/step - loss: 0.0981 - accuracy: 0.9834 - val_loss: 1.0928 - val_accuracy: 0.8115\n",
      "Epoch 49/400\n",
      "3/3 [==============================] - 0s 12ms/step - loss: 0.0985 - accuracy: 0.9835 - val_loss: 1.1014 - val_accuracy: 0.8052\n",
      "Epoch 50/400\n",
      "3/3 [==============================] - 0s 13ms/step - loss: 0.0959 - accuracy: 0.9838 - val_loss: 1.1043 - val_accuracy: 0.7970\n",
      "Epoch 51/400\n",
      "3/3 [==============================] - 0s 13ms/step - loss: 0.0995 - accuracy: 0.9823 - val_loss: 1.0859 - val_accuracy: 0.8130\n",
      "Epoch 52/400\n",
      "3/3 [==============================] - 0s 13ms/step - loss: 0.0980 - accuracy: 0.9837 - val_loss: 1.1132 - val_accuracy: 0.8045\n",
      "Epoch 53/400\n",
      "3/3 [==============================] - 0s 14ms/step - loss: 0.0957 - accuracy: 0.9840 - val_loss: 1.1055 - val_accuracy: 0.8004\n",
      "Epoch 54/400\n",
      "3/3 [==============================] - 0s 14ms/step - loss: 0.0970 - accuracy: 0.9835 - val_loss: 1.1082 - val_accuracy: 0.8089\n",
      "Epoch 55/400\n",
      "3/3 [==============================] - 0s 16ms/step - loss: 0.0966 - accuracy: 0.9834 - val_loss: 1.1083 - val_accuracy: 0.8086\n",
      "Epoch 56/400\n",
      "3/3 [==============================] - 0s 14ms/step - loss: 0.0955 - accuracy: 0.9845 - val_loss: 1.0918 - val_accuracy: 0.8059\n",
      "Epoch 57/400\n",
      "3/3 [==============================] - 0s 13ms/step - loss: 0.0967 - accuracy: 0.9841 - val_loss: 1.1068 - val_accuracy: 0.8059\n",
      "Epoch 58/400\n",
      "3/3 [==============================] - 0s 12ms/step - loss: 0.0966 - accuracy: 0.9831 - val_loss: 1.1282 - val_accuracy: 0.8093\n",
      "Epoch 59/400\n",
      "3/3 [==============================] - 0s 14ms/step - loss: 0.0978 - accuracy: 0.9837 - val_loss: 1.1079 - val_accuracy: 0.8037\n",
      "Epoch 60/400\n",
      "3/3 [==============================] - 0s 14ms/step - loss: 0.0973 - accuracy: 0.9840 - val_loss: 1.1014 - val_accuracy: 0.8007\n",
      "Epoch 61/400\n",
      "3/3 [==============================] - 0s 19ms/step - loss: 0.0975 - accuracy: 0.9828 - val_loss: 1.0874 - val_accuracy: 0.8145\n",
      "Epoch 62/400\n",
      "3/3 [==============================] - 0s 14ms/step - loss: 0.0965 - accuracy: 0.9832 - val_loss: 1.1244 - val_accuracy: 0.7970\n",
      "Epoch 63/400\n",
      "3/3 [==============================] - 0s 13ms/step - loss: 0.0960 - accuracy: 0.9837 - val_loss: 1.1082 - val_accuracy: 0.8045\n",
      "Epoch 64/400\n",
      "3/3 [==============================] - 0s 14ms/step - loss: 0.0972 - accuracy: 0.9832 - val_loss: 1.1175 - val_accuracy: 0.8074\n",
      "Epoch 65/400\n",
      "3/3 [==============================] - 0s 13ms/step - loss: 0.0961 - accuracy: 0.9830 - val_loss: 1.0922 - val_accuracy: 0.8041\n",
      "Epoch 66/400\n",
      "3/3 [==============================] - 0s 14ms/step - loss: 0.0946 - accuracy: 0.9840 - val_loss: 1.0874 - val_accuracy: 0.8041\n",
      "Epoch 67/400\n",
      "3/3 [==============================] - 0s 13ms/step - loss: 0.0959 - accuracy: 0.9834 - val_loss: 1.1151 - val_accuracy: 0.8093\n",
      "Epoch 68/400\n",
      "3/3 [==============================] - 0s 15ms/step - loss: 0.0948 - accuracy: 0.9835 - val_loss: 1.0994 - val_accuracy: 0.8030\n",
      "Epoch 69/400\n",
      "3/3 [==============================] - 0s 17ms/step - loss: 0.0943 - accuracy: 0.9844 - val_loss: 1.0924 - val_accuracy: 0.8026\n",
      "Epoch 70/400\n",
      "3/3 [==============================] - 0s 15ms/step - loss: 0.0936 - accuracy: 0.9841 - val_loss: 1.1005 - val_accuracy: 0.8123\n",
      "Epoch 71/400\n",
      "3/3 [==============================] - 0s 14ms/step - loss: 0.0937 - accuracy: 0.9835 - val_loss: 1.0951 - val_accuracy: 0.8078\n",
      "Epoch 72/400\n",
      "3/3 [==============================] - 0s 16ms/step - loss: 0.0934 - accuracy: 0.9835 - val_loss: 1.1024 - val_accuracy: 0.8067\n",
      "Epoch 73/400\n",
      "3/3 [==============================] - 0s 12ms/step - loss: 0.0928 - accuracy: 0.9839 - val_loss: 1.1049 - val_accuracy: 0.8067\n",
      "Epoch 74/400\n",
      "3/3 [==============================] - 0s 15ms/step - loss: 0.0937 - accuracy: 0.9835 - val_loss: 1.0958 - val_accuracy: 0.8126\n",
      "Epoch 75/400\n",
      "3/3 [==============================] - 0s 14ms/step - loss: 0.0922 - accuracy: 0.9841 - val_loss: 1.1131 - val_accuracy: 0.8011\n",
      "Epoch 76/400\n",
      "3/3 [==============================] - 0s 14ms/step - loss: 0.0939 - accuracy: 0.9833 - val_loss: 1.0955 - val_accuracy: 0.8041\n",
      "Epoch 77/400\n",
      "3/3 [==============================] - 0s 14ms/step - loss: 0.0936 - accuracy: 0.9842 - val_loss: 1.1164 - val_accuracy: 0.8086\n",
      "Epoch 78/400\n",
      "3/3 [==============================] - 0s 14ms/step - loss: 0.0947 - accuracy: 0.9835 - val_loss: 1.0950 - val_accuracy: 0.8056\n",
      "Epoch 79/400\n",
      "3/3 [==============================] - 0s 13ms/step - loss: 0.0931 - accuracy: 0.9843 - val_loss: 1.0739 - val_accuracy: 0.8026\n",
      "Epoch 80/400\n",
      "3/3 [==============================] - 0s 14ms/step - loss: 0.0928 - accuracy: 0.9845 - val_loss: 1.0926 - val_accuracy: 0.8037\n",
      "Epoch 81/400\n",
      "3/3 [==============================] - 0s 15ms/step - loss: 0.0933 - accuracy: 0.9838 - val_loss: 1.0801 - val_accuracy: 0.8126\n",
      "Epoch 82/400\n",
      "3/3 [==============================] - 0s 13ms/step - loss: 0.0936 - accuracy: 0.9830 - val_loss: 1.1278 - val_accuracy: 0.7941\n",
      "Epoch 83/400\n",
      "3/3 [==============================] - 0s 14ms/step - loss: 0.0944 - accuracy: 0.9845 - val_loss: 1.0777 - val_accuracy: 0.8097\n",
      "Epoch 84/400\n",
      "3/3 [==============================] - 0s 15ms/step - loss: 0.0990 - accuracy: 0.9824 - val_loss: 1.1220 - val_accuracy: 0.7974\n",
      "Epoch 85/400\n",
      "3/3 [==============================] - 0s 13ms/step - loss: 0.0974 - accuracy: 0.9822 - val_loss: 1.0401 - val_accuracy: 0.8138\n",
      "Epoch 86/400\n",
      "3/3 [==============================] - 0s 13ms/step - loss: 0.0973 - accuracy: 0.9831 - val_loss: 1.0656 - val_accuracy: 0.7974\n",
      "Epoch 87/400\n",
      "3/3 [==============================] - 0s 13ms/step - loss: 0.0953 - accuracy: 0.9830 - val_loss: 1.0751 - val_accuracy: 0.8063\n",
      "Epoch 88/400\n",
      "3/3 [==============================] - 0s 13ms/step - loss: 0.0987 - accuracy: 0.9816 - val_loss: 1.0739 - val_accuracy: 0.8126\n",
      "Epoch 89/400\n",
      "3/3 [==============================] - 0s 13ms/step - loss: 0.0976 - accuracy: 0.9833 - val_loss: 1.0846 - val_accuracy: 0.7989\n",
      "Epoch 90/400\n",
      "3/3 [==============================] - 0s 13ms/step - loss: 0.0950 - accuracy: 0.9837 - val_loss: 1.0494 - val_accuracy: 0.8112\n",
      "Epoch 91/400\n",
      "3/3 [==============================] - 0s 12ms/step - loss: 0.0975 - accuracy: 0.9821 - val_loss: 1.1211 - val_accuracy: 0.7918\n",
      "Epoch 92/400\n",
      "3/3 [==============================] - 0s 14ms/step - loss: 0.0967 - accuracy: 0.9823 - val_loss: 1.0814 - val_accuracy: 0.8126\n",
      "Epoch 93/400\n",
      "3/3 [==============================] - 0s 14ms/step - loss: 0.0943 - accuracy: 0.9823 - val_loss: 1.1315 - val_accuracy: 0.7941\n",
      "Epoch 94/400\n",
      "3/3 [==============================] - 0s 14ms/step - loss: 0.0965 - accuracy: 0.9816 - val_loss: 1.0859 - val_accuracy: 0.8037\n",
      "Epoch 95/400\n",
      "3/3 [==============================] - 0s 15ms/step - loss: 0.0974 - accuracy: 0.9825 - val_loss: 1.1186 - val_accuracy: 0.8033\n",
      "Epoch 96/400\n",
      "3/3 [==============================] - 0s 13ms/step - loss: 0.0947 - accuracy: 0.9830 - val_loss: 1.0902 - val_accuracy: 0.8138\n"
     ]
    }
   ],
   "source": [
    "history = modelnn.fit(train_data, epochs=400, validation_data=val_data, callbacks=[early_stopping])"
   ]
  },
  {
   "cell_type": "code",
   "execution_count": 296,
   "metadata": {},
   "outputs": [],
   "source": [
    "nnpred = modelnn.predict(X_valPCA)"
   ]
  },
  {
   "cell_type": "code",
   "execution_count": 297,
   "metadata": {},
   "outputs": [
    {
     "data": {
      "text/plain": "array([[4.3844117e-05, 7.9021066e-01],\n       [6.8743728e-05, 8.7970209e-01],\n       [7.8223593e-04, 3.4458843e-01],\n       ...,\n       [3.4615706e-04, 7.1292901e-01],\n       [2.0891430e-05, 9.4478148e-01],\n       [2.3981953e-01, 4.2287954e-03]], dtype=float32)"
     },
     "execution_count": 297,
     "metadata": {},
     "output_type": "execute_result"
    }
   ],
   "source": [
    "nnpred"
   ]
  },
  {
   "cell_type": "code",
   "execution_count": 298,
   "metadata": {},
   "outputs": [],
   "source": [
    "nnpred1 = np.argmax(nnpred, axis=1)"
   ]
  },
  {
   "cell_type": "code",
   "execution_count": 299,
   "metadata": {},
   "outputs": [
    {
     "data": {
      "text/plain": "0.8137546468401488"
     },
     "execution_count": 299,
     "metadata": {},
     "output_type": "execute_result"
    }
   ],
   "source": [
    "np.mean(nnpred1 == y_val[\"is_centrosymmetric\"].astype(np.int8))"
   ]
  },
  {
   "cell_type": "code",
   "execution_count": 300,
   "metadata": {},
   "outputs": [
    {
     "data": {
      "text/plain": "0.6821290178475607"
     },
     "execution_count": 300,
     "metadata": {},
     "output_type": "execute_result"
    }
   ],
   "source": [
    "metrics.f1_score(y_val[\"is_centrosymmetric\"], nnpred1, average='macro')"
   ]
  },
  {
   "cell_type": "code",
   "execution_count": 301,
   "metadata": {},
   "outputs": [
    {
     "data": {
      "image/png": "[encoded data removed]",
      "text/plain": "<Figure size 864x360 with 2 Axes>"
     },
     "metadata": {
      "needs_background": "light"
     },
     "output_type": "display_data"
    }
   ],
   "source": [
    "\r\n",
    "\r\n",
    "# Plot the learning curves\r\n",
    "\r\n",
    "fig = plt.figure(figsize=(12, 5))\r\n",
    "\r\n",
    "fig.add_subplot(121)\r\n",
    "plt.plot(history.history['loss'], label='Train')\r\n",
    "plt.plot(history.history['val_loss'], label='Validation')\r\n",
    "plt.xlabel(\"Epoch\")\r\n",
    "plt.ylabel(\"Cross entropy loss\")\r\n",
    "plt.title(\"Loss vs epoch\")\r\n",
    "\r\n",
    "fig.add_subplot(122)\r\n",
    "plt.plot(history.history['accuracy'], label='Train')\r\n",
    "plt.plot(history.history['val_accuracy'], label='Validation')\r\n",
    "plt.xlabel(\"Epoch\")\r\n",
    "plt.ylabel(\"Categorical accuracy\")\r\n",
    "plt.title(\"Accuracy vs epoch\")\r\n",
    "\r\n",
    "plt.show()\r\n",
    "\r\n"
   ]
  },
  {
   "cell_type": "markdown",
   "metadata": {},
   "source": [
    "#### Task 1 SVR MAE=0.0577"
   ]
  },
  {
   "cell_type": "code",
   "execution_count": 66,
   "metadata": {},
   "outputs": [
    {
     "data": {
      "text/plain": "SVR()"
     },
     "execution_count": 66,
     "metadata": {},
     "output_type": "execute_result"
    }
   ],
   "source": [
    "target = \"calculated_density\"\r\n",
    "model1 = svm.SVR()\r\n",
    "model1.fit(X_train, y_train[target])"
   ]
  },
  {
   "cell_type": "code",
   "execution_count": 67,
   "metadata": {},
   "outputs": [],
   "source": [
    "m1pred = model1.predict(X_val3)"
   ]
  },
  {
   "cell_type": "code",
   "execution_count": 68,
   "metadata": {},
   "outputs": [
    {
     "data": {
      "text/plain": "0.05768788700937748"
     },
     "execution_count": 68,
     "metadata": {},
     "output_type": "execute_result"
    }
   ],
   "source": [
    "metrics.mean_absolute_error(y_val[target], m1pred)"
   ]
  },
  {
   "cell_type": "markdown",
   "metadata": {},
   "source": [
    "#### Task 3 LinReg mae=0.305 lasso_mae=0.2735 ridge_mae=0.266"
   ]
  },
  {
   "cell_type": "code",
   "execution_count": 351,
   "metadata": {},
   "outputs": [
    {
     "data": {
      "text/plain": "Ridge(alpha=0.7)"
     },
     "execution_count": 351,
     "metadata": {},
     "output_type": "execute_result"
    }
   ],
   "source": [
    "target = \"mean\"\r\n",
    "model3 = linear_model.Ridge(0.7)\r\n",
    "model3.fit(X_train3, y_train3[target])"
   ]
  },
  {
   "cell_type": "code",
   "execution_count": 353,
   "metadata": {},
   "outputs": [
    {
     "data": {
      "text/plain": "Ridge(alpha=0.7)"
     },
     "execution_count": 353,
     "metadata": {},
     "output_type": "execute_result"
    }
   ],
   "source": [
    "target = \"mean\"\r\n",
    "model3 = linear_model.Ridge(0.7)\r\n",
    "model3.fit(train_descriptors_full, train_centroid_distances[target])"
   ]
  },
  {
   "cell_type": "code",
   "execution_count": 355,
   "metadata": {},
   "outputs": [],
   "source": [
    "m3pred = model3.predict(test_descriptors_full)"
   ]
  },
  {
   "cell_type": "code",
   "execution_count": 62,
   "metadata": {},
   "outputs": [
    {
     "data": {
      "text/plain": "0.2660196799269595"
     },
     "execution_count": 62,
     "metadata": {},
     "output_type": "execute_result"
    }
   ],
   "source": [
    "metrics.mean_absolute_error(y_val3[target], m3pred)"
   ]
  },
  {
   "cell_type": "code",
   "execution_count": 58,
   "metadata": {},
   "outputs": [],
   "source": [
    "mae3 = []\r\n",
    "for i in np.logspace(-3, 0):\r\n",
    "    model3 = linear_model.Ridge(i)\r\n",
    "    model3.fit(X_train3, y_train3[target])\r\n",
    "    m3pred = model3.predict(X_val3)\r\n",
    "    mae3i = metrics.mean_absolute_error(y_val3[target], m3pred)\r\n",
    "    mae3.append(mae3i)"
   ]
  },
  {
   "cell_type": "code",
   "execution_count": 59,
   "metadata": {},
   "outputs": [
    {
     "data": {
      "text/plain": "[<matplotlib.lines.Line2D at 0x15e29293888>]"
     },
     "execution_count": 59,
     "metadata": {},
     "output_type": "execute_result"
    },
    {
     "data": {
      "image/png": "[encoded data removed]",
      "text/plain": "<Figure size 432x288 with 1 Axes>"
     },
     "metadata": {
      "needs_background": "light"
     },
     "output_type": "display_data"
    }
   ],
   "source": [
    "plt.plot(np.logspace(-3, 0),mae3)"
   ]
  },
  {
   "cell_type": "code",
   "execution_count": null,
   "metadata": {},
   "outputs": [],
   "source": [
    "np.savetxt(\"task_3_predictions.csv\", m3pred, delimiter=\",\")"
   ]
  },
  {
   "cell_type": "markdown",
   "metadata": {},
   "source": [
    "#### Task 3 SVR MAE=0.29"
   ]
  },
  {
   "cell_type": "code",
   "execution_count": 63,
   "metadata": {},
   "outputs": [
    {
     "data": {
      "text/plain": "SVR()"
     },
     "execution_count": 63,
     "metadata": {},
     "output_type": "execute_result"
    }
   ],
   "source": [
    "target = \"mean\"\r\n",
    "model3 = svm.SVR()\r\n",
    "model3.fit(X_train3, y_train3[target])"
   ]
  },
  {
   "cell_type": "code",
   "execution_count": 64,
   "metadata": {},
   "outputs": [],
   "source": [
    "m3pred = model3.predict(X_val3)"
   ]
  },
  {
   "cell_type": "code",
   "execution_count": 65,
   "metadata": {},
   "outputs": [
    {
     "data": {
      "text/plain": "0.2915383303558062"
     },
     "execution_count": 65,
     "metadata": {},
     "output_type": "execute_result"
    }
   ],
   "source": [
    "metrics.mean_absolute_error(y_val3[target], m3pred)"
   ]
  },
  {
   "cell_type": "code",
   "execution_count": null,
   "metadata": {},
   "outputs": [
    {
     "data": {
      "text/plain": "[<matplotlib.lines.Line2D at 0x15e29293888>]"
     },
     "execution_count": 59,
     "metadata": {},
     "output_type": "execute_result"
    },
    {
     "data": {
      "image/png": "[encoded data removed]",
      "text/plain": "<Figure size 432x288 with 1 Axes>"
     },
     "metadata": {
      "needs_background": "light"
     },
     "output_type": "display_data"
    }
   ],
   "source": [
    "plt.plot(np.logspace(-3, 0),mae3)"
   ]
  },
  {
   "cell_type": "markdown",
   "metadata": {},
   "source": [
    "#### Task 2 SVC accu=0.81 f1=0.53"
   ]
  },
  {
   "cell_type": "code",
   "execution_count": 30,
   "metadata": {},
   "outputs": [
    {
     "data": {
      "text/plain": "Pipeline(steps=[('standardscaler', StandardScaler()),\n                ('svc', SVC(gamma='auto'))])"
     },
     "execution_count": 30,
     "metadata": {},
     "output_type": "execute_result"
    }
   ],
   "source": [
    "clf = pipeline.make_pipeline(preprocessing.StandardScaler(), svm.SVC(gamma='auto'))\r\n",
    "clf.fit(X_train, y_train[\"is_centrosymmetric\"])"
   ]
  },
  {
   "cell_type": "code",
   "execution_count": 33,
   "metadata": {},
   "outputs": [],
   "source": [
    "clfxpred = clf.predict(X_val)"
   ]
  },
  {
   "cell_type": "code",
   "execution_count": 34,
   "metadata": {},
   "outputs": [
    {
     "data": {
      "text/plain": "0.8156133828996283"
     },
     "execution_count": 34,
     "metadata": {},
     "output_type": "execute_result"
    }
   ],
   "source": [
    "np.mean(clfxpred == y_val[\"is_centrosymmetric\"])"
   ]
  },
  {
   "cell_type": "code",
   "execution_count": 40,
   "metadata": {},
   "outputs": [
    {
     "data": {
      "text/plain": "0.5306737805693091"
     },
     "execution_count": 40,
     "metadata": {},
     "output_type": "execute_result"
    }
   ],
   "source": [
    "metrics.f1_score(y_val[\"is_centrosymmetric\"], clfxpred, average='macro')"
   ]
  }
 ],
 "metadata": {
  "kernelspec": {
   "display_name": "Python 3.7.10 64-bit ('tf': conda)",
   "name": "python3710jvsc74a57bd0737b2fb08f2b8c540cf11fd86e32d9689f32c83d05d4e5cc27a1be43de9a6744"
  },
  "language_info": {
   "codemirror_mode": {
    "name": "ipython",
    "version": 3
   },
   "file_extension": ".py",
   "mimetype": "text/x-python",
   "name": "python",
   "nbconvert_exporter": "python",
   "pygments_lexer": "ipython3",
   "version": "3.7.10-final"
  }
 },
 "nbformat": 4,
 "nbformat_minor": 5
}