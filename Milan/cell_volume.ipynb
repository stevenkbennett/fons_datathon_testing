{
 "cells": [
  {
   "cell_type": "code",
   "execution_count": 1,
   "metadata": {},
   "outputs": [],
   "source": [
    "import numpy as np\n",
    "import matplotlib.pyplot as plt\n",
    "import pandas as pd \n",
    "import sklearn as sk \n",
    "import seaborn as sns"
   ]
  },
  {
   "cell_type": "code",
   "execution_count": 2,
   "metadata": {},
   "outputs": [],
   "source": [
    "df_crystals = pd.read_csv('data/train_crystals.csv')\n",
    "df_distances = pd.read_csv('data/train_distances.csv')\n",
    "df_cent_distances = pd.read_csv('data/train_centroid_distances.csv') \n",
    "\n",
    "df_inter = df_crystals.join(df_distances.set_index('identifiers'), on='identifiers')\n",
    "df = df_inter.join(df_cent_distances.set_index('identifiers'),\n",
    "                        on='identifiers', rsuffix='_centroid') \n",
    "\n",
    "df.head() \n",
    "df['mean_centroid']\n",
    "\n",
    "train = pd.read_csv('data/train_descriptors.csv')\n"
   ]
  },
  {
   "cell_type": "code",
   "execution_count": 3,
   "metadata": {},
   "outputs": [
    {
     "data": {
      "text/html": [
       "<div>\n",
       "<style scoped>\n",
       "    .dataframe tbody tr th:only-of-type {\n",
       "        vertical-align: middle;\n",
       "    }\n",
       "\n",
       "    .dataframe tbody tr th {\n",
       "        vertical-align: top;\n",
       "    }\n",
       "\n",
       "    .dataframe thead th {\n",
       "        text-align: right;\n",
       "    }\n",
       "</style>\n",
       "<table border=\"1\" class=\"dataframe\">\n",
       "  <thead>\n",
       "    <tr style=\"text-align: right;\">\n",
       "      <th></th>\n",
       "      <th>identifiers</th>\n",
       "      <th>n_heavy_atoms</th>\n",
       "      <th>smiles</th>\n",
       "      <th>a</th>\n",
       "      <th>b</th>\n",
       "      <th>c</th>\n",
       "      <th>alpha</th>\n",
       "      <th>beta</th>\n",
       "      <th>gamma</th>\n",
       "      <th>z_value</th>\n",
       "      <th>...</th>\n",
       "      <th>percentile_25</th>\n",
       "      <th>percentile_75</th>\n",
       "      <th>min_centroid</th>\n",
       "      <th>max_centroid</th>\n",
       "      <th>mean_centroid</th>\n",
       "      <th>mode_centroid</th>\n",
       "      <th>median_centroid</th>\n",
       "      <th>std_centroid</th>\n",
       "      <th>percentile_25_centroid</th>\n",
       "      <th>percentile_75_centroid</th>\n",
       "    </tr>\n",
       "  </thead>\n",
       "  <tbody>\n",
       "    <tr>\n",
       "      <th>0</th>\n",
       "      <td>COXSUE</td>\n",
       "      <td>12</td>\n",
       "      <td>CC(=O)NN=C(C)C1=NCCS1</td>\n",
       "      <td>4.7362</td>\n",
       "      <td>17.0760</td>\n",
       "      <td>11.4150</td>\n",
       "      <td>90.0</td>\n",
       "      <td>94.432</td>\n",
       "      <td>90.0</td>\n",
       "      <td>4.0</td>\n",
       "      <td>...</td>\n",
       "      <td>5.939994</td>\n",
       "      <td>10.352198</td>\n",
       "      <td>4.736200</td>\n",
       "      <td>9.147929</td>\n",
       "      <td>7.426769</td>\n",
       "      <td>4.736200</td>\n",
       "      <td>8.088933</td>\n",
       "      <td>1.563737</td>\n",
       "      <td>6.512305</td>\n",
       "      <td>8.652986</td>\n",
       "    </tr>\n",
       "    <tr>\n",
       "      <th>1</th>\n",
       "      <td>TUWFAU</td>\n",
       "      <td>15</td>\n",
       "      <td>CC(C)N(C)c1ccc(cc1C#N)C#N</td>\n",
       "      <td>8.9832</td>\n",
       "      <td>12.6212</td>\n",
       "      <td>9.6863</td>\n",
       "      <td>90.0</td>\n",
       "      <td>92.414</td>\n",
       "      <td>90.0</td>\n",
       "      <td>4.0</td>\n",
       "      <td>...</td>\n",
       "      <td>6.603302</td>\n",
       "      <td>10.985316</td>\n",
       "      <td>4.751947</td>\n",
       "      <td>11.683526</td>\n",
       "      <td>8.171218</td>\n",
       "      <td>7.056717</td>\n",
       "      <td>8.596524</td>\n",
       "      <td>1.894844</td>\n",
       "      <td>7.056717</td>\n",
       "      <td>9.235177</td>\n",
       "    </tr>\n",
       "    <tr>\n",
       "      <th>2</th>\n",
       "      <td>DUTHEG</td>\n",
       "      <td>14</td>\n",
       "      <td>CC1=CC(=O)N2C(=NC(=NC2=N1)C)N</td>\n",
       "      <td>11.1369</td>\n",
       "      <td>18.9130</td>\n",
       "      <td>4.0311</td>\n",
       "      <td>90.0</td>\n",
       "      <td>90.000</td>\n",
       "      <td>90.0</td>\n",
       "      <td>4.0</td>\n",
       "      <td>...</td>\n",
       "      <td>5.790356</td>\n",
       "      <td>10.413188</td>\n",
       "      <td>4.031100</td>\n",
       "      <td>10.543597</td>\n",
       "      <td>7.449690</td>\n",
       "      <td>4.031100</td>\n",
       "      <td>7.034673</td>\n",
       "      <td>2.328665</td>\n",
       "      <td>5.765142</td>\n",
       "      <td>9.435290</td>\n",
       "    </tr>\n",
       "    <tr>\n",
       "      <th>3</th>\n",
       "      <td>AXUDED08</td>\n",
       "      <td>10</td>\n",
       "      <td>COC(=O)c1ccccc1</td>\n",
       "      <td>13.1840</td>\n",
       "      <td>5.9231</td>\n",
       "      <td>16.9510</td>\n",
       "      <td>90.0</td>\n",
       "      <td>90.000</td>\n",
       "      <td>90.0</td>\n",
       "      <td>8.0</td>\n",
       "      <td>...</td>\n",
       "      <td>5.337268</td>\n",
       "      <td>9.426187</td>\n",
       "      <td>4.032894</td>\n",
       "      <td>9.448610</td>\n",
       "      <td>6.808171</td>\n",
       "      <td>4.423993</td>\n",
       "      <td>6.079166</td>\n",
       "      <td>1.978778</td>\n",
       "      <td>5.173547</td>\n",
       "      <td>8.653620</td>\n",
       "    </tr>\n",
       "    <tr>\n",
       "      <th>4</th>\n",
       "      <td>ARAGUV</td>\n",
       "      <td>10</td>\n",
       "      <td>CC(=O)NC1=NNC(=C1)C</td>\n",
       "      <td>18.6000</td>\n",
       "      <td>19.9320</td>\n",
       "      <td>7.7992</td>\n",
       "      <td>90.0</td>\n",
       "      <td>90.000</td>\n",
       "      <td>90.0</td>\n",
       "      <td>16.0</td>\n",
       "      <td>...</td>\n",
       "      <td>5.557215</td>\n",
       "      <td>9.660297</td>\n",
       "      <td>5.266146</td>\n",
       "      <td>10.701777</td>\n",
       "      <td>7.114870</td>\n",
       "      <td>5.266146</td>\n",
       "      <td>6.403891</td>\n",
       "      <td>1.997464</td>\n",
       "      <td>5.539808</td>\n",
       "      <td>8.313428</td>\n",
       "    </tr>\n",
       "  </tbody>\n",
       "</table>\n",
       "<p>5 rows × 39 columns</p>\n",
       "</div>"
      ],
      "text/plain": [
       "  identifiers  n_heavy_atoms                         smiles        a        b  \\\n",
       "0      COXSUE             12          CC(=O)NN=C(C)C1=NCCS1   4.7362  17.0760   \n",
       "1      TUWFAU             15      CC(C)N(C)c1ccc(cc1C#N)C#N   8.9832  12.6212   \n",
       "2      DUTHEG             14  CC1=CC(=O)N2C(=NC(=NC2=N1)C)N  11.1369  18.9130   \n",
       "3    AXUDED08             10                COC(=O)c1ccccc1  13.1840   5.9231   \n",
       "4      ARAGUV             10            CC(=O)NC1=NNC(=C1)C  18.6000  19.9320   \n",
       "\n",
       "         c  alpha    beta  gamma  z_value  ...  percentile_25 percentile_75  \\\n",
       "0  11.4150   90.0  94.432   90.0      4.0  ...       5.939994     10.352198   \n",
       "1   9.6863   90.0  92.414   90.0      4.0  ...       6.603302     10.985316   \n",
       "2   4.0311   90.0  90.000   90.0      4.0  ...       5.790356     10.413188   \n",
       "3  16.9510   90.0  90.000   90.0      8.0  ...       5.337268      9.426187   \n",
       "4   7.7992   90.0  90.000   90.0     16.0  ...       5.557215      9.660297   \n",
       "\n",
       "   min_centroid  max_centroid  mean_centroid  mode_centroid  median_centroid  \\\n",
       "0      4.736200      9.147929       7.426769       4.736200         8.088933   \n",
       "1      4.751947     11.683526       8.171218       7.056717         8.596524   \n",
       "2      4.031100     10.543597       7.449690       4.031100         7.034673   \n",
       "3      4.032894      9.448610       6.808171       4.423993         6.079166   \n",
       "4      5.266146     10.701777       7.114870       5.266146         6.403891   \n",
       "\n",
       "   std_centroid  percentile_25_centroid  percentile_75_centroid  \n",
       "0      1.563737                6.512305                8.652986  \n",
       "1      1.894844                7.056717                9.235177  \n",
       "2      2.328665                5.765142                9.435290  \n",
       "3      1.978778                5.173547                8.653620  \n",
       "4      1.997464                5.539808                8.313428  \n",
       "\n",
       "[5 rows x 39 columns]"
      ]
     },
     "execution_count": 3,
     "metadata": {},
     "output_type": "execute_result"
    }
   ],
   "source": [
    "df.head()"
   ]
  },
  {
   "cell_type": "code",
   "execution_count": 42,
   "metadata": {},
   "outputs": [
    {
     "data": {
      "text/html": [
       "<div>\n",
       "<style scoped>\n",
       "    .dataframe tbody tr th:only-of-type {\n",
       "        vertical-align: middle;\n",
       "    }\n",
       "\n",
       "    .dataframe tbody tr th {\n",
       "        vertical-align: top;\n",
       "    }\n",
       "\n",
       "    .dataframe thead th {\n",
       "        text-align: right;\n",
       "    }\n",
       "</style>\n",
       "<table border=\"1\" class=\"dataframe\">\n",
       "  <thead>\n",
       "    <tr style=\"text-align: right;\">\n",
       "      <th></th>\n",
       "      <th>ABC</th>\n",
       "      <th>ABCGG</th>\n",
       "      <th>nAcid</th>\n",
       "      <th>nBase</th>\n",
       "      <th>SpAbs_A</th>\n",
       "      <th>SpMax_A</th>\n",
       "      <th>SpDiam_A</th>\n",
       "      <th>SpAD_A</th>\n",
       "      <th>SpMAD_A</th>\n",
       "      <th>LogEE_A</th>\n",
       "      <th>...</th>\n",
       "      <th>SRW10</th>\n",
       "      <th>TSRW10</th>\n",
       "      <th>MW</th>\n",
       "      <th>AMW</th>\n",
       "      <th>WPath</th>\n",
       "      <th>WPol</th>\n",
       "      <th>Zagreb1</th>\n",
       "      <th>Zagreb2</th>\n",
       "      <th>mZagreb1</th>\n",
       "      <th>mZagreb2</th>\n",
       "    </tr>\n",
       "  </thead>\n",
       "  <tbody>\n",
       "    <tr>\n",
       "      <th>0</th>\n",
       "      <td>8.773011</td>\n",
       "      <td>8.632564</td>\n",
       "      <td>0</td>\n",
       "      <td>0</td>\n",
       "      <td>14.599164</td>\n",
       "      <td>2.244739</td>\n",
       "      <td>4.388162</td>\n",
       "      <td>14.599164</td>\n",
       "      <td>1.216597</td>\n",
       "      <td>3.370933</td>\n",
       "      <td>...</td>\n",
       "      <td>8.764834</td>\n",
       "      <td>54.650723</td>\n",
       "      <td>185.062283</td>\n",
       "      <td>8.046186</td>\n",
       "      <td>219</td>\n",
       "      <td>11</td>\n",
       "      <td>54.0</td>\n",
       "      <td>58.0</td>\n",
       "      <td>4.833333</td>\n",
       "      <td>2.777778</td>\n",
       "    </tr>\n",
       "    <tr>\n",
       "      <th>1</th>\n",
       "      <td>10.813451</td>\n",
       "      <td>10.346393</td>\n",
       "      <td>0</td>\n",
       "      <td>0</td>\n",
       "      <td>18.488707</td>\n",
       "      <td>2.357869</td>\n",
       "      <td>4.715737</td>\n",
       "      <td>18.488707</td>\n",
       "      <td>1.232580</td>\n",
       "      <td>3.592641</td>\n",
       "      <td>...</td>\n",
       "      <td>9.421492</td>\n",
       "      <td>46.551655</td>\n",
       "      <td>199.110947</td>\n",
       "      <td>7.111105</td>\n",
       "      <td>364</td>\n",
       "      <td>22</td>\n",
       "      <td>70.0</td>\n",
       "      <td>80.0</td>\n",
       "      <td>6.805556</td>\n",
       "      <td>3.583333</td>\n",
       "    </tr>\n",
       "    <tr>\n",
       "      <th>2</th>\n",
       "      <td>10.922841</td>\n",
       "      <td>9.584172</td>\n",
       "      <td>0</td>\n",
       "      <td>0</td>\n",
       "      <td>16.685332</td>\n",
       "      <td>2.436274</td>\n",
       "      <td>4.872549</td>\n",
       "      <td>16.685332</td>\n",
       "      <td>1.191809</td>\n",
       "      <td>3.577079</td>\n",
       "      <td>...</td>\n",
       "      <td>9.693445</td>\n",
       "      <td>46.214439</td>\n",
       "      <td>191.080710</td>\n",
       "      <td>8.307857</td>\n",
       "      <td>271</td>\n",
       "      <td>22</td>\n",
       "      <td>74.0</td>\n",
       "      <td>87.0</td>\n",
       "      <td>5.666667</td>\n",
       "      <td>3.000000</td>\n",
       "    </tr>\n",
       "    <tr>\n",
       "      <th>3</th>\n",
       "      <td>7.140017</td>\n",
       "      <td>6.873356</td>\n",
       "      <td>0</td>\n",
       "      <td>0</td>\n",
       "      <td>12.857279</td>\n",
       "      <td>2.214320</td>\n",
       "      <td>4.428639</td>\n",
       "      <td>12.857279</td>\n",
       "      <td>1.285728</td>\n",
       "      <td>3.188884</td>\n",
       "      <td>...</td>\n",
       "      <td>8.703009</td>\n",
       "      <td>38.792641</td>\n",
       "      <td>136.052429</td>\n",
       "      <td>7.558468</td>\n",
       "      <td>121</td>\n",
       "      <td>11</td>\n",
       "      <td>44.0</td>\n",
       "      <td>48.0</td>\n",
       "      <td>3.722222</td>\n",
       "      <td>2.444444</td>\n",
       "    </tr>\n",
       "    <tr>\n",
       "      <th>4</th>\n",
       "      <td>7.399237</td>\n",
       "      <td>7.308033</td>\n",
       "      <td>0</td>\n",
       "      <td>0</td>\n",
       "      <td>11.638727</td>\n",
       "      <td>2.249778</td>\n",
       "      <td>4.311276</td>\n",
       "      <td>11.638727</td>\n",
       "      <td>1.163873</td>\n",
       "      <td>3.200300</td>\n",
       "      <td>...</td>\n",
       "      <td>8.616314</td>\n",
       "      <td>52.270726</td>\n",
       "      <td>139.074562</td>\n",
       "      <td>7.319714</td>\n",
       "      <td>125</td>\n",
       "      <td>8</td>\n",
       "      <td>46.0</td>\n",
       "      <td>49.0</td>\n",
       "      <td>4.333333</td>\n",
       "      <td>2.250000</td>\n",
       "    </tr>\n",
       "  </tbody>\n",
       "</table>\n",
       "<p>5 rows × 1613 columns</p>\n",
       "</div>"
      ],
      "text/plain": [
       "         ABC      ABCGG  nAcid  nBase    SpAbs_A   SpMax_A  SpDiam_A  \\\n",
       "0   8.773011   8.632564      0      0  14.599164  2.244739  4.388162   \n",
       "1  10.813451  10.346393      0      0  18.488707  2.357869  4.715737   \n",
       "2  10.922841   9.584172      0      0  16.685332  2.436274  4.872549   \n",
       "3   7.140017   6.873356      0      0  12.857279  2.214320  4.428639   \n",
       "4   7.399237   7.308033      0      0  11.638727  2.249778  4.311276   \n",
       "\n",
       "      SpAD_A   SpMAD_A   LogEE_A  ...     SRW10     TSRW10          MW  \\\n",
       "0  14.599164  1.216597  3.370933  ...  8.764834  54.650723  185.062283   \n",
       "1  18.488707  1.232580  3.592641  ...  9.421492  46.551655  199.110947   \n",
       "2  16.685332  1.191809  3.577079  ...  9.693445  46.214439  191.080710   \n",
       "3  12.857279  1.285728  3.188884  ...  8.703009  38.792641  136.052429   \n",
       "4  11.638727  1.163873  3.200300  ...  8.616314  52.270726  139.074562   \n",
       "\n",
       "        AMW  WPath  WPol  Zagreb1  Zagreb2  mZagreb1  mZagreb2  \n",
       "0  8.046186    219    11     54.0     58.0  4.833333  2.777778  \n",
       "1  7.111105    364    22     70.0     80.0  6.805556  3.583333  \n",
       "2  8.307857    271    22     74.0     87.0  5.666667  3.000000  \n",
       "3  7.558468    121    11     44.0     48.0  3.722222  2.444444  \n",
       "4  7.319714    125     8     46.0     49.0  4.333333  2.250000  \n",
       "\n",
       "[5 rows x 1613 columns]"
      ]
     },
     "execution_count": 42,
     "metadata": {},
     "output_type": "execute_result"
    }
   ],
   "source": [
    "X = train.drop(['identifiers', 'name', 'InchiKey', 'SMILES', 'Unnamed: 0'], axis=1) \n",
    "X.head()"
   ]
  },
  {
   "cell_type": "code",
   "execution_count": 5,
   "metadata": {},
   "outputs": [],
   "source": [
    "from sklearn.experimental import enable_iterative_imputer\n",
    "from sklearn.impute import IterativeImputer, SimpleImputer\n",
    "\n",
    "imp = SimpleImputer(strategy=\"most_frequent\")\n",
    "Y = df['cell_volume'].values\n",
    "imp.fit(X,Y)\n",
    "X = imp.transform(X) "
   ]
  },
  {
   "cell_type": "code",
   "execution_count": 6,
   "metadata": {},
   "outputs": [
    {
     "data": {
      "image/png": "[encoded data removed]",
      "text/plain": [
       "<Figure size 432x288 with 1 Axes>"
      ]
     },
     "metadata": {
      "needs_background": "light"
     },
     "output_type": "display_data"
    }
   ],
   "source": [
    "from sklearn.linear_model import RidgeCV\n",
    "from sklearn.model_selection import train_test_split\n",
    "# X = X[:10]\n",
    "X_train, X_test, Y_train, Y_test = train_test_split(X, Y, test_size= .3, random_state=69) \n",
    "\n",
    "\n",
    "plt.hist(df['z_prime'], bins=20)\n",
    "plt.show()\n"
   ]
  },
  {
   "cell_type": "code",
   "execution_count": 7,
   "metadata": {},
   "outputs": [],
   "source": [
    "# from sklearn.feature_selection import SequentialFeatureSelector\n",
    "# from sklearn.neighbors import KNeighborsClassifier\n",
    "# from sklearn.datasets import load_iris\n",
    "\n",
    "# X, y = load_iris(return_X_y=True)\n",
    "# knn = KNeighborsClassifier(n_neighbors=3)\n",
    "# sfs = SequentialFeatureSelector(knn, n_features_to_select=3)\n",
    "# sfs.fit(X, y)\n",
    "\n",
    "\n",
    "# sfs.get_support()\n",
    "\n",
    "# sfs.transform(X).shape"
   ]
  },
  {
   "cell_type": "code",
   "execution_count": 8,
   "metadata": {},
   "outputs": [
    {
     "data": {
      "text/plain": [
       "RidgeCV(alphas=array([ 0.1,  1. , 10. ]), cv=5, fit_intercept=True,\n",
       "        gcv_mode=None, normalize=False, scoring=None, store_cv_values=False)"
      ]
     },
     "execution_count": 8,
     "metadata": {},
     "output_type": "execute_result"
    }
   ],
   "source": [
    "\n",
    "#Train the model\n",
    "ridge = RidgeCV(cv=5)\n",
    "ridge.fit(X_train, Y_train)\n"
   ]
  },
  {
   "cell_type": "code",
   "execution_count": 9,
   "metadata": {},
   "outputs": [],
   "source": [
    "plt.style.use('seaborn-deep')\n",
    "from sklearn.metrics import mean_absolute_error, mean_squared_error\n",
    "def evaluation(model, X_test, y_test):\n",
    "    prediction = model.predict(X_test)\n",
    "    print(prediction.shape)\n",
    "    mae = mean_absolute_error(y_test, prediction)\n",
    "    mse = mean_squared_error(y_test, prediction)\n",
    "    \n",
    "    plt.figure(figsize=(15, 10))\n",
    "    plt.scatter(prediction, y_test, c='red', label=\"should be a line\", s=5, alpha=0.8)\n",
    "#     plt.scatter(y_test, 'blue', label=\"actual\", s=5, alpha=0.6)\n",
    "    plt.legend()\n",
    "    plt.ylabel('cell_volume')\n",
    "    plt.title(\"MAE {}, MSE {}\".format(round(mae,4), round(mse,4)))\n",
    "    plt.show()\n",
    "    \n",
    "    print('MAE score:', round(mae/(np.mean(y_test)), 4))\n",
    "    print('MSE score:', round(mse,4))"
   ]
  },
  {
   "cell_type": "code",
   "execution_count": 10,
   "metadata": {},
   "outputs": [
    {
     "name": "stdout",
     "output_type": "stream",
     "text": [
      "(4035,)\n"
     ]
    },
    {
     "data": {
      "image/png": "[encoded data removed]",
      "text/plain": [
       "<Figure size 1080x720 with 1 Axes>"
      ]
     },
     "metadata": {
      "needs_background": "light"
     },
     "output_type": "display_data"
    },
    {
     "name": "stdout",
     "output_type": "stream",
     "text": [
      "MAE score: 0.353\n",
      "MSE score: 241842.569\n"
     ]
    }
   ],
   "source": [
    "#Evaluate results\n",
    "evaluation(ridge, X_test, Y_test)\n",
    "\n",
    "\n"
   ]
  },
  {
   "cell_type": "code",
   "execution_count": 11,
   "metadata": {},
   "outputs": [
    {
     "data": {
      "image/png": "[encoded data removed]",
      "text/plain": [
       "<Figure size 432x288 with 1 Axes>"
      ]
     },
     "metadata": {
      "needs_background": "light"
     },
     "output_type": "display_data"
    }
   ],
   "source": [
    "# plt.hist(df['cell_volume'].values, bins=200)\n",
    "plt.scatter(df['z_value'].values, df['cell_volume'].values, s=5)\n",
    "plt.show()"
   ]
  },
  {
   "cell_type": "markdown",
   "metadata": {},
   "source": [
    "Creating two different dataframes which handle small and large values respectively. We then train two separate models and combine them at the end."
   ]
  },
  {
   "cell_type": "code",
   "execution_count": 12,
   "metadata": {},
   "outputs": [
    {
     "name": "stdout",
     "output_type": "stream",
     "text": [
      "  identifiers  n_heavy_atoms        smiles       a       b       c   alpha  \\\n",
      "0    OXAMID04            6.0  NC(=O)C(N)=O  3.5592  4.8685  5.2934  90.842   \n",
      "\n",
      "      beta    gamma  z_value  ...  percentile_25 percentile_75  min_centroid  \\\n",
      "0  103.472  106.075      1.0  ...       4.271916      6.961343        3.5592   \n",
      "\n",
      "   max_centroid  mean_centroid  mode_centroid  median_centroid  std_centroid  \\\n",
      "0      7.244294       5.298531         3.5592         5.174372      1.138927   \n",
      "\n",
      "   percentile_25_centroid  percentile_75_centroid  \n",
      "0                  4.8685                5.648854  \n",
      "\n",
      "[1 rows x 39 columns]\n"
     ]
    }
   ],
   "source": [
    "df_small = pd.DataFrame().reindex_like(df).dropna()\n",
    "df_small = pd.DataFrame().reindex(columns=df.columns)\n",
    "df_large = pd.DataFrame().reindex_like(df)\n",
    "\n",
    "for i in range(len(df)):\n",
    "    if df['cell_volume'].values[i] <= 90:\n",
    "        df_small.loc[-1] = df.iloc[i]  # adding a row\n",
    "        df_small.index = df_small.index + 1  # shifting index\n",
    "\n",
    "\n",
    "df_small = df_small.sort_index()  # sorting by index\n",
    "print(df_small)\n",
    "\n",
    "\n",
    "#         df_small.append( pd.DataFrame(df.iloc[i]) )\n",
    "#         print(pd.DataFrame(df.iloc[i]))\n",
    "#         print(df.iloc[i].transpose())\n",
    "#         df_small.append( df.iloc[i].transpose() )\n",
    "\n",
    "        \n",
    "# df_small.head()"
   ]
  },
  {
   "cell_type": "code",
   "execution_count": 13,
   "metadata": {},
   "outputs": [
    {
     "name": "stdout",
     "output_type": "stream",
     "text": [
      "(9414, 1553)\n"
     ]
    }
   ],
   "source": [
    "print(X_train.shape)"
   ]
  },
  {
   "cell_type": "code",
   "execution_count": 23,
   "metadata": {},
   "outputs": [
    {
     "name": "stdout",
     "output_type": "stream",
     "text": [
      "[2 2 2 ... 1 2 1]\n"
     ]
    }
   ],
   "source": [
    "from sklearn.cluster import KMeans\n",
    "import numpy as np\n",
    "\n",
    "kmeans = KMeans(n_clusters=4, random_state=69).fit(X_train)\n",
    "\n",
    "kmeans.labels_\n"
   ]
  },
  {
   "cell_type": "code",
   "execution_count": 29,
   "metadata": {},
   "outputs": [
    {
     "name": "stdout",
     "output_type": "stream",
     "text": [
      "2\n",
      "(9414, 1553)\n"
     ]
    }
   ],
   "source": [
    "print(kmeans.labels_[1000])\n",
    "print(X_train.shape)"
   ]
  },
  {
   "cell_type": "code",
   "execution_count": 40,
   "metadata": {},
   "outputs": [
    {
     "ename": "SyntaxError",
     "evalue": "can't assign to function call (<ipython-input-40-93953f933f5e>, line 5)",
     "output_type": "error",
     "traceback": [
      "\u001b[1;36m  File \u001b[1;32m\"<ipython-input-40-93953f933f5e>\"\u001b[1;36m, line \u001b[1;32m5\u001b[0m\n\u001b[1;33m    X_train_arrays[kmeans.labels_[i]].append() = X_train[i]\u001b[0m\n\u001b[1;37m    ^\u001b[0m\n\u001b[1;31mSyntaxError\u001b[0m\u001b[1;31m:\u001b[0m can't assign to function call\n"
     ]
    }
   ],
   "source": [
    "X_train_arrays = np.zeros((4, 9414, 1553))\n",
    "print(X_train_arrays.shape)\n",
    "\n",
    "for i in range(len(X_train)):\n",
    "    X_train_arrays[kmeans.labels_[i]] = X_train[i] \n"
   ]
  },
  {
   "cell_type": "code",
   "execution_count": 39,
   "metadata": {},
   "outputs": [
    {
     "name": "stdout",
     "output_type": "stream",
     "text": [
      "(9414, 1553)\n"
     ]
    }
   ],
   "source": [
    "print(X_train_arrays[1].shape)"
   ]
  },
  {
   "cell_type": "code",
   "execution_count": null,
   "metadata": {},
   "outputs": [],
   "source": []
  },
  {
   "cell_type": "code",
   "execution_count": 20,
   "metadata": {},
   "outputs": [
    {
     "data": {
      "text/plain": [
       "array([2, 2, 1, ..., 1, 1, 2])"
      ]
     },
     "execution_count": 20,
     "metadata": {},
     "output_type": "execute_result"
    }
   ],
   "source": [
    "kmeans.predict(X_test)"
   ]
  },
  {
   "cell_type": "code",
   "execution_count": null,
   "metadata": {},
   "outputs": [],
   "source": [
    "\n",
    "#Train the model\n",
    "ridge = RidgeCV(cv=5)\n",
    "ridge.fit(X_train, Y_train)\n"
   ]
  },
  {
   "cell_type": "code",
   "execution_count": null,
   "metadata": {},
   "outputs": [],
   "source": []
  }
 ],
 "metadata": {
  "kernelspec": {
   "display_name": "base",
   "language": "python",
   "name": "base"
  },
  "language_info": {
   "codemirror_mode": {
    "name": "ipython",
    "version": 3
   },
   "file_extension": ".py",
   "mimetype": "text/x-python",
   "name": "python",
   "nbconvert_exporter": "python",
   "pygments_lexer": "ipython3",
   "version": "3.7.6"
  }
 },
 "nbformat": 4,
 "nbformat_minor": 4
}
