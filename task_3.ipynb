{
 "cells": [
  {
   "cell_type": "markdown",
   "id": "planned-prayer",
   "metadata": {},
   "source": [
    "# FoNS Datathon 2021 "
   ]
  },
  {
   "cell_type": "code",
   "execution_count": 1,
   "id": "logical-instrumentation",
   "metadata": {},
   "outputs": [],
   "source": [
    "import pandas as pd\n",
    "import numpy as np\n",
    "import matplotlib.pyplot as plt\n",
    "import matplotlib.cm as cm\n",
    "plt.rcParams['figure.figsize'] = (8,6)\n",
    "import seaborn as sns\n",
    "from sklearn import *"
   ]
  },
  {
   "cell_type": "code",
   "execution_count": 2,
   "id": "steady-protocol",
   "metadata": {},
   "outputs": [],
   "source": [
    "train_descriptors = pd.read_csv(\"train_descriptors.csv\")\n",
    "train_mord3d = pd.read_csv(\"train_mord3d.csv\")\n",
    "train_morgan = pd.read_csv(\"train_morgan.csv\")\n",
    "train_rdk = pd.read_csv(\"train_rdk.csv\")\n",
    "\n",
    "train_crystals = pd.read_csv(\"train_crystals.csv\")\n",
    "train_distances = pd.read_csv(\"train_distances.csv\")\n",
    "train_centroid_distances = pd.read_csv(\"train_centroid_distances.csv\")"
   ]
  },
  {
   "cell_type": "code",
   "execution_count": 3,
   "id": "local-arrival",
   "metadata": {},
   "outputs": [],
   "source": [
    "test_descriptors = pd.read_csv(\"test_descriptors.csv\")\n",
    "test_mord3d = pd.read_csv(\"test_mord3d.csv\")\n",
    "test_morgan = pd.read_csv(\"test_morgan.csv\")\n",
    "test_rdk = pd.read_csv(\"test_rdk.csv\")"
   ]
  },
  {
   "cell_type": "markdown",
   "id": "formed-stand",
   "metadata": {},
   "source": [
    "### Data pre-processing"
   ]
  },
  {
   "cell_type": "code",
   "execution_count": 7,
   "id": "boolean-modern",
   "metadata": {},
   "outputs": [
    {
     "data": {
      "text/plain": [
       "(13449, 984)"
      ]
     },
     "execution_count": 7,
     "metadata": {},
     "output_type": "execute_result"
    }
   ],
   "source": [
    "train_descriptors_full = train_descriptors.iloc[:, 3:-2].dropna(axis= 1, how=\"any\")\n",
    "train_descriptors_full.shape"
   ]
  },
  {
   "cell_type": "code",
   "execution_count": 8,
   "id": "varied-pilot",
   "metadata": {},
   "outputs": [
    {
     "data": {
      "text/plain": [
       "(3363, 984)"
      ]
     },
     "execution_count": 8,
     "metadata": {},
     "output_type": "execute_result"
    }
   ],
   "source": [
    "test_descriptors_full = test_descriptors[train_descriptors_full.columns]\n",
    "test_descriptors_full.shape"
   ]
  },
  {
   "cell_type": "code",
   "execution_count": 9,
   "id": "published-client",
   "metadata": {},
   "outputs": [
    {
     "name": "stdout",
     "output_type": "stream",
     "text": [
      "(13449, 124) (3363, 124)\n"
     ]
    }
   ],
   "source": [
    "train_PCA = decomposition.PCA(n_components=.95)\n",
    "scaler_for_PCA = preprocessing.StandardScaler()\n",
    "train_descriptors_PCA = train_PCA.fit_transform(scaler_for_PCA.fit_transform(train_descriptors_full))\n",
    "test_descriptors_PCA = train_PCA.transform(scaler_for_PCA.transform(test_descriptors_full))\n",
    "print(train_descriptors_PCA.shape, test_descriptors_PCA.shape)"
   ]
  },
  {
   "cell_type": "markdown",
   "id": "sunset-nature",
   "metadata": {},
   "source": [
    "### Initial attempt"
   ]
  },
  {
   "cell_type": "code",
   "execution_count": 10,
   "id": "legislative-nickname",
   "metadata": {},
   "outputs": [
    {
     "data": {
      "text/plain": [
       "LinearRegression()"
      ]
     },
     "execution_count": 10,
     "metadata": {},
     "output_type": "execute_result"
    }
   ],
   "source": [
    "target = \"mean\"\n",
    "model = linear_model.LinearRegression()\n",
    "model.fit(train_descriptors_PCA, train_centroid_distances[target])"
   ]
  },
  {
   "cell_type": "code",
   "execution_count": 11,
   "id": "bronze-baker",
   "metadata": {
    "tags": []
   },
   "outputs": [
    {
     "data": {
      "image/png": "[encoded data removed]",
      "text/plain": [
       "<Figure size 576x432 with 1 Axes>"
      ]
     },
     "metadata": {
      "needs_background": "light"
     },
     "output_type": "display_data"
    }
   ],
   "source": [
    "predictions = model.predict(train_descriptors_PCA)\n",
    "plt.plot(train_centroid_distances[target], predictions, \"bo\")\n",
    "plt.xlabel(\"True values\")\n",
    "plt.ylabel(\"Predicted values\")\n",
    "plt.title(\"Predicted z-value against true values\")\n",
    "plt.show()"
   ]
  },
  {
   "cell_type": "markdown",
   "id": "waiting-airfare",
   "metadata": {},
   "source": [
    "### Cross-validation to evaluate the model's performance"
   ]
  },
  {
   "cell_type": "code",
   "execution_count": 12,
   "id": "raised-taylor",
   "metadata": {},
   "outputs": [
    {
     "name": "stdout",
     "output_type": "stream",
     "text": [
      "Average negative MAE: -0.294\n",
      "Standard deviation: 0.007\n"
     ]
    }
   ],
   "source": [
    "cv_scores = model_selection.cross_val_score(\n",
    "    model, \n",
    "    train_descriptors_PCA, \n",
    "    train_centroid_distances[target], \n",
    "    scoring=\"neg_mean_absolute_error\")\n",
    "\n",
    "print(\"Average negative MAE:\", round(np.mean(cv_scores), 3))\n",
    "print(\"Standard deviation:\", round(np.std(cv_scores), 3))"
   ]
  },
  {
   "cell_type": "markdown",
   "id": "reduced-apache",
   "metadata": {},
   "source": [
    "### Outputting predictions for automated checking \n",
    "Link: https://github.com/stevenkbennett/fons_datathon_testing"
   ]
  },
  {
   "cell_type": "code",
   "execution_count": 13,
   "id": "comparative-mechanism",
   "metadata": {},
   "outputs": [],
   "source": [
    "predictions = model.predict(test_descriptors_PCA)"
   ]
  },
  {
   "cell_type": "code",
   "execution_count": 14,
   "id": "quick-vertical",
   "metadata": {},
   "outputs": [],
   "source": [
    "np.savetxt(\"my_task_3_predictions.csv\", predictions)\n",
    "# Alternatively, if using pandas, you can use the following:\n",
    "#pd.DataFrame(predictions).to_csv(\"task_x_predictions.csv\", header=False, index=False)"
   ]
  }
 ],
 "metadata": {
  "kernelspec": {
   "display_name": "Python 3",
   "language": "python",
   "name": "python3"
  },
  "language_info": {
   "codemirror_mode": {
    "name": "ipython",
    "version": 3
   },
   "file_extension": ".py",
   "mimetype": "text/x-python",
   "name": "python",
   "nbconvert_exporter": "python",
   "pygments_lexer": "ipython3",
   "version": "3.8.5"
  }
 },
 "nbformat": 4,
 "nbformat_minor": 5
}
