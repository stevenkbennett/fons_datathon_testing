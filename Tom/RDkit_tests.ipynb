{
 "cells": [
  {
   "cell_type": "code",
   "execution_count": 5,
   "metadata": {},
   "outputs": [],
   "source": [
    "from rdkit import Chem"
   ]
  },
  {
   "cell_type": "code",
   "execution_count": 47,
   "metadata": {},
   "outputs": [
    {
     "name": "stdout",
     "output_type": "stream",
     "text": [
      "222 µs ± 2.95 µs per loop (mean ± std. dev. of 7 runs, 1000 loops each)\n"
     ]
    },
    {
     "data": {
      "image/png": "[encoded data removed]",
      "text/plain": [
       "<rdkit.Chem.rdchem.Mol at 0x7fde0d24d350>"
      ]
     },
     "execution_count": 47,
     "metadata": {},
     "output_type": "execute_result"
    }
   ],
   "source": [
    "%timeit m = Chem.MolFromSmiles('C1CC1N2C=C(C(=O)C3=CC(=C(C=C32)N4CCNCC4)F)C(=O)O')\n",
    "m"
   ]
  },
  {
   "cell_type": "code",
   "execution_count": 13,
   "metadata": {},
   "outputs": [
    {
     "ename": "AttributeError",
     "evalue": "'Atom' object has no attribute 'GetNumAtoms'",
     "output_type": "error",
     "traceback": [
      "\u001b[0;31m---------------------------------------------------------------------------\u001b[0m",
      "\u001b[0;31mAttributeError\u001b[0m                            Traceback (most recent call last)",
      "\u001b[0;32m<ipython-input-13-14cfe34e5e46>\u001b[0m in \u001b[0;36m<module>\u001b[0;34m\u001b[0m\n\u001b[1;32m      1\u001b[0m \u001b[0;32mfor\u001b[0m \u001b[0matom\u001b[0m \u001b[0;32min\u001b[0m \u001b[0mm\u001b[0m\u001b[0;34m.\u001b[0m\u001b[0mGetAtoms\u001b[0m\u001b[0;34m(\u001b[0m\u001b[0;34m)\u001b[0m\u001b[0;34m:\u001b[0m\u001b[0;34m\u001b[0m\u001b[0;34m\u001b[0m\u001b[0m\n\u001b[0;32m----> 2\u001b[0;31m     \u001b[0mprint\u001b[0m\u001b[0;34m(\u001b[0m\u001b[0matom\u001b[0m\u001b[0;34m.\u001b[0m\u001b[0mGetNumAtoms\u001b[0m\u001b[0;34m(\u001b[0m\u001b[0;34m)\u001b[0m\u001b[0;34m)\u001b[0m\u001b[0;34m\u001b[0m\u001b[0;34m\u001b[0m\u001b[0m\n\u001b[0m",
      "\u001b[0;31mAttributeError\u001b[0m: 'Atom' object has no attribute 'GetNumAtoms'"
     ]
    }
   ],
   "source": [
    "for atom in m.GetAtoms():\n",
    "    print(atom.GetNumAtoms())"
   ]
  },
  {
   "cell_type": "code",
   "execution_count": 14,
   "metadata": {},
   "outputs": [
    {
     "data": {
      "text/plain": [
       "True"
      ]
     },
     "execution_count": 14,
     "metadata": {},
     "output_type": "execute_result"
    }
   ],
   "source": [
    "m.GetAtomWithIdx(0).IsInRing()"
   ]
  },
  {
   "cell_type": "code",
   "execution_count": 40,
   "metadata": {},
   "outputs": [
    {
     "data": {
      "text/plain": [
       "array(['H', 'O', 'H', 'C', 'O', 'H', 'N', 'C', 'O', 'H', 'O', 'N'],\n",
       "      dtype='<U1')"
      ]
     },
     "execution_count": 40,
     "metadata": {},
     "output_type": "execute_result"
    }
   ],
   "source": [
    "import numpy as np\n",
    "np.random.choice(['C','N','O','H'], size = 12)"
   ]
  },
  {
   "cell_type": "code",
   "execution_count": 43,
   "metadata": {},
   "outputs": [
    {
     "name": "stdout",
     "output_type": "stream",
     "text": [
      "511 µs ± 10.5 µs per loop (mean ± std. dev. of 7 runs, 1000 loops each)\n"
     ]
    }
   ],
   "source": [
    "def c():\n",
    "    m = Chem.MolFromSmiles('C1CC1N2C=C(C(=O)C3=CC(=C(C=C32)N4CCNCC4)F)C(=O)O')\n",
    "    m = Chem.MolFromSmiles(\"\".join(np.random.choice(['C','N','O'], size = 12)))\n",
    "    m = Chem.rdmolops.AddHs(m)\n",
    "    ssr = Chem.GetSymmSSSR(m)\n",
    "    ri = m.GetRingInfo()\n",
    "    m2 = Chem.AddHs(m)\n",
    "    return [len(i) for i in ssr]\n",
    "\n",
    "\n",
    "%timeit c()"
   ]
  },
  {
   "cell_type": "code",
   "execution_count": 46,
   "metadata": {},
   "outputs": [
    {
     "data": {
      "image/png": "[encoded data removed]",
      "text/plain": [
       "<rdkit.Chem.rdchem.Mol at 0x7fde0d24d350>"
      ]
     },
     "execution_count": 46,
     "metadata": {},
     "output_type": "execute_result"
    }
   ],
   "source": [
    "m = Chem.MolFromSmiles('C1CC1N2C=C(C(=O)C3=CC(=C(C=C32)N4CCNCC4)F)C(=O)O')\n",
    "m"
   ]
  },
  {
   "cell_type": "code",
   "execution_count": 49,
   "metadata": {},
   "outputs": [
    {
     "data": {
      "text/plain": [
       "(24, 24)"
      ]
     },
     "execution_count": 49,
     "metadata": {},
     "output_type": "execute_result"
    }
   ],
   "source": [
    "Chem.rdmolops.GetAdjacencyMatrix(m).shape"
   ]
  },
  {
   "cell_type": "code",
   "execution_count": null,
   "metadata": {},
   "outputs": [],
   "source": []
  },
  {
   "cell_type": "code",
   "execution_count": 50,
   "metadata": {},
   "outputs": [
    {
     "data": {
      "text/plain": [
       "array([[ 0.,  1.,  1.,  2.,  3.,  4.,  5.,  6.,  4.,  5.,  6.,  5.,  4.,\n",
       "         3.,  6.,  7.,  8.,  9.,  8.,  7.,  7.,  5.,  6.,  6.],\n",
       "       [ 1.,  0.,  1.,  2.,  3.,  4.,  5.,  6.,  4.,  5.,  6.,  5.,  4.,\n",
       "         3.,  6.,  7.,  8.,  9.,  8.,  7.,  7.,  5.,  6.,  6.],\n",
       "       [ 1.,  1.,  0.,  1.,  2.,  3.,  4.,  5.,  3.,  4.,  5.,  4.,  3.,\n",
       "         2.,  5.,  6.,  7.,  8.,  7.,  6.,  6.,  4.,  5.,  5.],\n",
       "       [ 2.,  2.,  1.,  0.,  1.,  2.,  3.,  4.,  2.,  3.,  4.,  3.,  2.,\n",
       "         1.,  4.,  5.,  6.,  7.,  6.,  5.,  5.,  3.,  4.,  4.],\n",
       "       [ 3.,  3.,  2.,  1.,  0.,  1.,  2.,  3.,  3.,  4.,  5.,  4.,  3.,\n",
       "         2.,  5.,  6.,  7.,  8.,  7.,  6.,  6.,  2.,  3.,  3.],\n",
       "       [ 4.,  4.,  3.,  2.,  1.,  0.,  1.,  2.,  2.,  3.,  4.,  5.,  4.,\n",
       "         3.,  6.,  7.,  8.,  9.,  8.,  7.,  5.,  1.,  2.,  2.],\n",
       "       [ 5.,  5.,  4.,  3.,  2.,  1.,  0.,  1.,  1.,  2.,  3.,  4.,  3.,\n",
       "         2.,  5.,  6.,  7.,  8.,  7.,  6.,  4.,  2.,  3.,  3.],\n",
       "       [ 6.,  6.,  5.,  4.,  3.,  2.,  1.,  0.,  2.,  3.,  4.,  5.,  4.,\n",
       "         3.,  6.,  7.,  8.,  9.,  8.,  7.,  5.,  3.,  4.,  4.],\n",
       "       [ 4.,  4.,  3.,  2.,  3.,  2.,  1.,  2.,  0.,  1.,  2.,  3.,  2.,\n",
       "         1.,  4.,  5.,  6.,  7.,  6.,  5.,  3.,  3.,  4.,  4.],\n",
       "       [ 5.,  5.,  4.,  3.,  4.,  3.,  2.,  3.,  1.,  0.,  1.,  2.,  3.,\n",
       "         2.,  3.,  4.,  5.,  6.,  5.,  4.,  2.,  4.,  5.,  5.],\n",
       "       [ 6.,  6.,  5.,  4.,  5.,  4.,  3.,  4.,  2.,  1.,  0.,  1.,  2.,\n",
       "         3.,  2.,  3.,  4.,  5.,  4.,  3.,  1.,  5.,  6.,  6.],\n",
       "       [ 5.,  5.,  4.,  3.,  4.,  5.,  4.,  5.,  3.,  2.,  1.,  0.,  1.,\n",
       "         2.,  1.,  2.,  3.,  4.,  3.,  2.,  2.,  6.,  7.,  7.],\n",
       "       [ 4.,  4.,  3.,  2.,  3.,  4.,  3.,  4.,  2.,  3.,  2.,  1.,  0.,\n",
       "         1.,  2.,  3.,  4.,  5.,  4.,  3.,  3.,  5.,  6.,  6.],\n",
       "       [ 3.,  3.,  2.,  1.,  2.,  3.,  2.,  3.,  1.,  2.,  3.,  2.,  1.,\n",
       "         0.,  3.,  4.,  5.,  6.,  5.,  4.,  4.,  4.,  5.,  5.],\n",
       "       [ 6.,  6.,  5.,  4.,  5.,  6.,  5.,  6.,  4.,  3.,  2.,  1.,  2.,\n",
       "         3.,  0.,  1.,  2.,  3.,  2.,  1.,  3.,  7.,  8.,  8.],\n",
       "       [ 7.,  7.,  6.,  5.,  6.,  7.,  6.,  7.,  5.,  4.,  3.,  2.,  3.,\n",
       "         4.,  1.,  0.,  1.,  2.,  3.,  2.,  4.,  8.,  9.,  9.],\n",
       "       [ 8.,  8.,  7.,  6.,  7.,  8.,  7.,  8.,  6.,  5.,  4.,  3.,  4.,\n",
       "         5.,  2.,  1.,  0.,  1.,  2.,  3.,  5.,  9., 10., 10.],\n",
       "       [ 9.,  9.,  8.,  7.,  8.,  9.,  8.,  9.,  7.,  6.,  5.,  4.,  5.,\n",
       "         6.,  3.,  2.,  1.,  0.,  1.,  2.,  6., 10., 11., 11.],\n",
       "       [ 8.,  8.,  7.,  6.,  7.,  8.,  7.,  8.,  6.,  5.,  4.,  3.,  4.,\n",
       "         5.,  2.,  3.,  2.,  1.,  0.,  1.,  5.,  9., 10., 10.],\n",
       "       [ 7.,  7.,  6.,  5.,  6.,  7.,  6.,  7.,  5.,  4.,  3.,  2.,  3.,\n",
       "         4.,  1.,  2.,  3.,  2.,  1.,  0.,  4.,  8.,  9.,  9.],\n",
       "       [ 7.,  7.,  6.,  5.,  6.,  5.,  4.,  5.,  3.,  2.,  1.,  2.,  3.,\n",
       "         4.,  3.,  4.,  5.,  6.,  5.,  4.,  0.,  6.,  7.,  7.],\n",
       "       [ 5.,  5.,  4.,  3.,  2.,  1.,  2.,  3.,  3.,  4.,  5.,  6.,  5.,\n",
       "         4.,  7.,  8.,  9., 10.,  9.,  8.,  6.,  0.,  1.,  1.],\n",
       "       [ 6.,  6.,  5.,  4.,  3.,  2.,  3.,  4.,  4.,  5.,  6.,  7.,  6.,\n",
       "         5.,  8.,  9., 10., 11., 10.,  9.,  7.,  1.,  0.,  2.],\n",
       "       [ 6.,  6.,  5.,  4.,  3.,  2.,  3.,  4.,  4.,  5.,  6.,  7.,  6.,\n",
       "         5.,  8.,  9., 10., 11., 10.,  9.,  7.,  1.,  2.,  0.]])"
      ]
     },
     "execution_count": 50,
     "metadata": {},
     "output_type": "execute_result"
    }
   ],
   "source": [
    "Chem.rdmolops.GetDistanceMatrix(m)"
   ]
  }
 ],
 "metadata": {
  "kernelspec": {
   "display_name": "Python 3",
   "language": "python",
   "name": "python3"
  },
  "language_info": {
   "codemirror_mode": {
    "name": "ipython",
    "version": 3
   },
   "file_extension": ".py",
   "mimetype": "text/x-python",
   "name": "python",
   "nbconvert_exporter": "python",
   "pygments_lexer": "ipython3",
   "version": "3.7.7"
  }
 },
 "nbformat": 4,
 "nbformat_minor": 4
}
