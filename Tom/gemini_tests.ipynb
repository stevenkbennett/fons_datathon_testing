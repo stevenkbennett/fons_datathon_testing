{
 "cells": [
  {
   "cell_type": "code",
   "execution_count": 20,
   "metadata": {},
   "outputs": [],
   "source": [
    "#!pip install gemini "
   ]
  },
  {
   "cell_type": "markdown",
   "metadata": {},
   "source": [
    "[read the docs for gemmi](https://gemmi.readthedocs.io/en/latest/cif.html)"
   ]
  },
  {
   "cell_type": "code",
   "execution_count": 3,
   "metadata": {},
   "outputs": [
    {
     "data": {
      "text/plain": [
       "<gemmi.cif.Document with 1 blocks (b)>"
      ]
     },
     "execution_count": 3,
     "metadata": {},
     "output_type": "execute_result"
    }
   ],
   "source": [
    "from gemmi import cif\n",
    "path = \"./example_data/1520367.cif\"\n",
    "\n",
    "doc = cif.read_file(path)  # copy all the data from mmCIF file\n",
    "doc"
   ]
  },
  {
   "cell_type": "code",
   "execution_count": 4,
   "metadata": {},
   "outputs": [
    {
     "data": {
      "text/plain": [
       "<gemmi.cif.Block b>"
      ]
     },
     "execution_count": 4,
     "metadata": {},
     "output_type": "execute_result"
    }
   ],
   "source": [
    "block = doc.sole_block()  # mmCIF has exactly one block\n",
    "block"
   ]
  },
  {
   "cell_type": "code",
   "execution_count": 9,
   "metadata": {},
   "outputs": [
    {
     "data": {
      "text/plain": [
       "['add_item',\n",
       " 'as_string',\n",
       " 'find',\n",
       " 'find_frame',\n",
       " 'find_loop',\n",
       " 'find_loop_item',\n",
       " 'find_mmcif_category',\n",
       " 'find_or_add',\n",
       " 'find_pair',\n",
       " 'find_pair_item',\n",
       " 'find_value',\n",
       " 'find_values',\n",
       " 'get_index',\n",
       " 'get_mmcif_category',\n",
       " 'get_mmcif_category_names',\n",
       " 'init_loop',\n",
       " 'init_mmcif_loop',\n",
       " 'item_as_table',\n",
       " 'move_item',\n",
       " 'name',\n",
       " 'set_mmcif_category',\n",
       " 'set_pair',\n",
       " 'write_file']"
      ]
     },
     "execution_count": 9,
     "metadata": {},
     "output_type": "execute_result"
    }
   ],
   "source": [
    "[s for s in dir(block) if not s.startswith(\"_\")]"
   ]
  },
  {
   "cell_type": "code",
   "execution_count": 15,
   "metadata": {},
   "outputs": [
    {
     "data": {
      "text/plain": [
       "'S O O O O N N N H N H H N N C H C H C H C C C H C H C C H C H C C H H C H H C H H C H H H C C H H C H H C H H C H H H'"
      ]
     },
     "execution_count": 15,
     "metadata": {},
     "output_type": "execute_result"
    }
   ],
   "source": [
    "greeted = []\n",
    "\" \".join([e for e in block.find_loop(\"_atom_site_type_symbol\")])"
   ]
  },
  {
   "cell_type": "code",
   "execution_count": 27,
   "metadata": {},
   "outputs": [],
   "source": [
    "b = block.find(\"_atom_site_\", [\"type_symbol\", \"fract_x\", \"fract_y\", \"fract_z\"])"
   ]
  },
  {
   "cell_type": "code",
   "execution_count": 26,
   "metadata": {},
   "outputs": [
    {
     "data": {
      "text/plain": [
       "[['S1', 'S', '0.64362(5)', '0.89209(4)', '0.21229(5)'],\n",
       " ['O1', 'O', '0.63025(14)', '0.85278(11)', '0.11014(12)'],\n",
       " ['O2', 'O', '0.60005(14)', '0.80440(11)', '0.34253(13)'],\n",
       " ['O3', 'O', '0.7369(3)', '0.5374(2)', '0.0105(2)'],\n",
       " ['O4', 'O', '0.01675(15)', '0.29690(13)', '0.46768(13)'],\n",
       " ['N1', 'N', '1.03693(16)', '1.02888(13)', '0.12921(15)'],\n",
       " ['N2', 'N', '0.82009(17)', '0.98932(14)', '0.33051(15)'],\n",
       " ['N3', 'N', '0.82334(16)', '0.93179(13)', '0.15283(15)'],\n",
       " ['H3A', 'H', '0.8778', '0.9181', '0.0800'],\n",
       " ['N4', 'N', '0.29922(18)', '1.34606(14)', '0.23173(16)'],\n",
       " ['H4A', 'H', '0.2984', '1.3991', '0.1597'],\n",
       " ['H4B', 'H', '0.2458', '1.3572', '0.3061'],\n",
       " ['N5', 'N', '0.7780(2)', '0.39414(15)', '0.17797(18)'],\n",
       " ['N6', 'N', '-0.12590(17)', '0.29101(14)', '0.67914(16)'],\n",
       " ['C1', 'C', '0.8966(2)', '1.04214(17)', '0.37812(19)'],\n",
       " ['H1C', 'H', '0.8490', '1.0476', '0.4629'],\n",
       " ['C2', 'C', '1.0423(2)', '1.08856(17)', '0.30739(19)'],\n",
       " ['H2C', 'H', '1.0938', '1.1242', '0.3427'],\n",
       " ['C3', 'C', '1.1083(2)', '1.08001(17)', '0.1823(2)'],\n",
       " ['H3B', 'H', '1.2068', '1.1110', '0.1322'],\n",
       " ['C4', 'C', '0.89499(19)', '0.98506(14)', '0.20906(18)'],\n",
       " ['C5', 'C', '0.54982(19)', '1.02960(16)', '0.21984(17)'],\n",
       " ['C6', 'C', '0.5527(2)', '1.11900(17)', '0.10271(17)'],\n",
       " ['H6A', 'H', '0.6085', '1.1065', '0.0221'],\n",
       " ['C7', 'C', '0.4728(2)', '1.22533(17)', '0.10697(18)'],\n",
       " ['H7A', 'H', '0.4770', '1.2854', '0.0287'],\n",
       " ['C8', 'C', '0.3850(2)', '1.24455(16)', '0.22805(18)'],\n",
       " ['C9', 'C', '0.3870(2)', '1.15564(17)', '0.34438(18)'],\n",
       " ['H9A', 'H', '0.3334', '1.1684', '0.4252'],\n",
       " ['C10', 'C', '0.4680(2)', '1.04931(17)', '0.33939(17)'],\n",
       " ['H10A', 'H', '0.4676', '0.9905', '0.4171'],\n",
       " ['C11', 'C', '0.7042(3)', '0.4872(2)', '0.1286(3)'],\n",
       " ['C12', 'C', '0.5803(3)', '0.5149(2)', '0.2385(3)'],\n",
       " ['H12A', 'H', '0.4848', '0.4937', '0.2397'],\n",
       " ['H12B', 'H', '0.5855', '0.6039', '0.2308'],\n",
       " ['C13', 'C', '0.6009(3)', '0.4326(3)', '0.3624(3)'],\n",
       " ['H13A', 'H', '0.6383', '0.4836', '0.3993'],\n",
       " ['H13B', 'H', '0.5069', '0.3893', '0.4283'],\n",
       " ['C14', 'C', '0.7125(3)', '0.3383(2)', '0.3199(2)'],\n",
       " ['H14A', 'H', '0.7872', '0.3297', '0.3577'],\n",
       " ['H14B', 'H', '0.6636', '0.2558', '0.3450'],\n",
       " ['C15', 'C', '0.8977(4)', '0.3359(2)', '0.0991(3)'],\n",
       " ['H15A', 'H', '0.9264', '0.3842', '0.0077'],\n",
       " ['H15B', 'H', '0.8653', '0.2512', '0.1129'],\n",
       " ['H15C', 'H', '0.9814', '0.3332', '0.1239'],\n",
       " ['C16', 'C', '0.0001(2)', '0.31690(16)', '0.57052(19)'],\n",
       " ['C17', 'C', '0.1164(2)', '0.37323(17)', '0.59727(19)'],\n",
       " ['H17A', 'H', '0.1601', '0.4527', '0.5290'],\n",
       " ['H17B', 'H', '0.1952', '0.3156', '0.6007'],\n",
       " ['C18', 'C', '0.0347(2)', '0.39435(19)', '0.7295(2)'],\n",
       " ['H18A', 'H', '0.0185', '0.4835', '0.7182'],\n",
       " ['H18B', 'H', '0.0912', '0.3653', '0.7851'],\n",
       " ['C19', 'C', '-0.1138(2)', '0.31722(18)', '0.79009(19)'],\n",
       " ['H19A', 'H', '-0.1131', '0.2393', '0.8576'],\n",
       " ['H19B', 'H', '-0.1959', '0.3655', '0.8285'],\n",
       " ['C20', 'C', '-0.2600(2)', '0.2317(2)', '0.6906(2)'],\n",
       " ['H20A', 'H', '-0.2461', '0.2219', '0.6074'],\n",
       " ['H20B', 'H', '-0.3421', '0.2839', '0.7151'],\n",
       " ['H20C', 'H', '-0.2807', '0.1501', '0.7567']]"
      ]
     },
     "execution_count": 26,
     "metadata": {},
     "output_type": "execute_result"
    }
   ],
   "source": [
    "[list(a) for a in b]"
   ]
  }
 ],
 "metadata": {
  "kernelspec": {
   "display_name": "Python [conda env:root] *",
   "language": "python",
   "name": "conda-root-py"
  },
  "language_info": {
   "codemirror_mode": {
    "name": "ipython",
    "version": 3
   },
   "file_extension": ".py",
   "mimetype": "text/x-python",
   "name": "python",
   "nbconvert_exporter": "python",
   "pygments_lexer": "ipython3",
   "version": "3.7.7"
  }
 },
 "nbformat": 4,
 "nbformat_minor": 4
}
